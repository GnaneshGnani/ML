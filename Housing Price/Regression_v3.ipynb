{
 "cells": [
  {
   "cell_type": "code",
   "execution_count": 1,
   "metadata": {},
   "outputs": [],
   "source": [
    "import numpy as np\n",
    "import pandas as pd\n",
    "import matplotlib.pyplot as plt\n",
    "import seaborn as sns\n",
    "from sklearn import linear_model,svm,tree,ensemble,preprocessing,metrics,model_selection,impute\n",
    "import xgboost as xgb"
   ]
  },
  {
   "cell_type": "code",
   "execution_count": 2,
   "metadata": {},
   "outputs": [
    {
     "data": {
      "text/html": [
       "<div>\n",
       "<style scoped>\n",
       "    .dataframe tbody tr th:only-of-type {\n",
       "        vertical-align: middle;\n",
       "    }\n",
       "\n",
       "    .dataframe tbody tr th {\n",
       "        vertical-align: top;\n",
       "    }\n",
       "\n",
       "    .dataframe thead th {\n",
       "        text-align: right;\n",
       "    }\n",
       "</style>\n",
       "<table border=\"1\" class=\"dataframe\">\n",
       "  <thead>\n",
       "    <tr style=\"text-align: right;\">\n",
       "      <th></th>\n",
       "      <th>MSSubClass</th>\n",
       "      <th>MSZoning</th>\n",
       "      <th>LotFrontage</th>\n",
       "      <th>LotArea</th>\n",
       "      <th>Street</th>\n",
       "      <th>Alley</th>\n",
       "      <th>LotShape</th>\n",
       "      <th>LandContour</th>\n",
       "      <th>Utilities</th>\n",
       "      <th>LotConfig</th>\n",
       "      <th>...</th>\n",
       "      <th>PoolArea</th>\n",
       "      <th>PoolQC</th>\n",
       "      <th>Fence</th>\n",
       "      <th>MiscFeature</th>\n",
       "      <th>MiscVal</th>\n",
       "      <th>MoSold</th>\n",
       "      <th>YrSold</th>\n",
       "      <th>SaleType</th>\n",
       "      <th>SaleCondition</th>\n",
       "      <th>SalePrice</th>\n",
       "    </tr>\n",
       "  </thead>\n",
       "  <tbody>\n",
       "    <tr>\n",
       "      <th>0</th>\n",
       "      <td>60</td>\n",
       "      <td>RL</td>\n",
       "      <td>65.0</td>\n",
       "      <td>8450</td>\n",
       "      <td>Pave</td>\n",
       "      <td>NaN</td>\n",
       "      <td>Reg</td>\n",
       "      <td>Lvl</td>\n",
       "      <td>AllPub</td>\n",
       "      <td>Inside</td>\n",
       "      <td>...</td>\n",
       "      <td>0</td>\n",
       "      <td>NaN</td>\n",
       "      <td>NaN</td>\n",
       "      <td>NaN</td>\n",
       "      <td>0</td>\n",
       "      <td>2</td>\n",
       "      <td>2008</td>\n",
       "      <td>WD</td>\n",
       "      <td>Normal</td>\n",
       "      <td>208500</td>\n",
       "    </tr>\n",
       "    <tr>\n",
       "      <th>1</th>\n",
       "      <td>20</td>\n",
       "      <td>RL</td>\n",
       "      <td>80.0</td>\n",
       "      <td>9600</td>\n",
       "      <td>Pave</td>\n",
       "      <td>NaN</td>\n",
       "      <td>Reg</td>\n",
       "      <td>Lvl</td>\n",
       "      <td>AllPub</td>\n",
       "      <td>FR2</td>\n",
       "      <td>...</td>\n",
       "      <td>0</td>\n",
       "      <td>NaN</td>\n",
       "      <td>NaN</td>\n",
       "      <td>NaN</td>\n",
       "      <td>0</td>\n",
       "      <td>5</td>\n",
       "      <td>2007</td>\n",
       "      <td>WD</td>\n",
       "      <td>Normal</td>\n",
       "      <td>181500</td>\n",
       "    </tr>\n",
       "    <tr>\n",
       "      <th>2</th>\n",
       "      <td>60</td>\n",
       "      <td>RL</td>\n",
       "      <td>68.0</td>\n",
       "      <td>11250</td>\n",
       "      <td>Pave</td>\n",
       "      <td>NaN</td>\n",
       "      <td>IR1</td>\n",
       "      <td>Lvl</td>\n",
       "      <td>AllPub</td>\n",
       "      <td>Inside</td>\n",
       "      <td>...</td>\n",
       "      <td>0</td>\n",
       "      <td>NaN</td>\n",
       "      <td>NaN</td>\n",
       "      <td>NaN</td>\n",
       "      <td>0</td>\n",
       "      <td>9</td>\n",
       "      <td>2008</td>\n",
       "      <td>WD</td>\n",
       "      <td>Normal</td>\n",
       "      <td>223500</td>\n",
       "    </tr>\n",
       "    <tr>\n",
       "      <th>3</th>\n",
       "      <td>70</td>\n",
       "      <td>RL</td>\n",
       "      <td>60.0</td>\n",
       "      <td>9550</td>\n",
       "      <td>Pave</td>\n",
       "      <td>NaN</td>\n",
       "      <td>IR1</td>\n",
       "      <td>Lvl</td>\n",
       "      <td>AllPub</td>\n",
       "      <td>Corner</td>\n",
       "      <td>...</td>\n",
       "      <td>0</td>\n",
       "      <td>NaN</td>\n",
       "      <td>NaN</td>\n",
       "      <td>NaN</td>\n",
       "      <td>0</td>\n",
       "      <td>2</td>\n",
       "      <td>2006</td>\n",
       "      <td>WD</td>\n",
       "      <td>Abnorml</td>\n",
       "      <td>140000</td>\n",
       "    </tr>\n",
       "    <tr>\n",
       "      <th>4</th>\n",
       "      <td>60</td>\n",
       "      <td>RL</td>\n",
       "      <td>84.0</td>\n",
       "      <td>14260</td>\n",
       "      <td>Pave</td>\n",
       "      <td>NaN</td>\n",
       "      <td>IR1</td>\n",
       "      <td>Lvl</td>\n",
       "      <td>AllPub</td>\n",
       "      <td>FR2</td>\n",
       "      <td>...</td>\n",
       "      <td>0</td>\n",
       "      <td>NaN</td>\n",
       "      <td>NaN</td>\n",
       "      <td>NaN</td>\n",
       "      <td>0</td>\n",
       "      <td>12</td>\n",
       "      <td>2008</td>\n",
       "      <td>WD</td>\n",
       "      <td>Normal</td>\n",
       "      <td>250000</td>\n",
       "    </tr>\n",
       "    <tr>\n",
       "      <th>...</th>\n",
       "      <td>...</td>\n",
       "      <td>...</td>\n",
       "      <td>...</td>\n",
       "      <td>...</td>\n",
       "      <td>...</td>\n",
       "      <td>...</td>\n",
       "      <td>...</td>\n",
       "      <td>...</td>\n",
       "      <td>...</td>\n",
       "      <td>...</td>\n",
       "      <td>...</td>\n",
       "      <td>...</td>\n",
       "      <td>...</td>\n",
       "      <td>...</td>\n",
       "      <td>...</td>\n",
       "      <td>...</td>\n",
       "      <td>...</td>\n",
       "      <td>...</td>\n",
       "      <td>...</td>\n",
       "      <td>...</td>\n",
       "      <td>...</td>\n",
       "    </tr>\n",
       "    <tr>\n",
       "      <th>2914</th>\n",
       "      <td>160</td>\n",
       "      <td>RM</td>\n",
       "      <td>21.0</td>\n",
       "      <td>1936</td>\n",
       "      <td>Pave</td>\n",
       "      <td>NaN</td>\n",
       "      <td>Reg</td>\n",
       "      <td>Lvl</td>\n",
       "      <td>AllPub</td>\n",
       "      <td>Inside</td>\n",
       "      <td>...</td>\n",
       "      <td>0</td>\n",
       "      <td>NaN</td>\n",
       "      <td>NaN</td>\n",
       "      <td>NaN</td>\n",
       "      <td>0</td>\n",
       "      <td>6</td>\n",
       "      <td>2006</td>\n",
       "      <td>WD</td>\n",
       "      <td>Normal</td>\n",
       "      <td>0</td>\n",
       "    </tr>\n",
       "    <tr>\n",
       "      <th>2915</th>\n",
       "      <td>160</td>\n",
       "      <td>RM</td>\n",
       "      <td>21.0</td>\n",
       "      <td>1894</td>\n",
       "      <td>Pave</td>\n",
       "      <td>NaN</td>\n",
       "      <td>Reg</td>\n",
       "      <td>Lvl</td>\n",
       "      <td>AllPub</td>\n",
       "      <td>Inside</td>\n",
       "      <td>...</td>\n",
       "      <td>0</td>\n",
       "      <td>NaN</td>\n",
       "      <td>NaN</td>\n",
       "      <td>NaN</td>\n",
       "      <td>0</td>\n",
       "      <td>4</td>\n",
       "      <td>2006</td>\n",
       "      <td>WD</td>\n",
       "      <td>Abnorml</td>\n",
       "      <td>0</td>\n",
       "    </tr>\n",
       "    <tr>\n",
       "      <th>2916</th>\n",
       "      <td>20</td>\n",
       "      <td>RL</td>\n",
       "      <td>160.0</td>\n",
       "      <td>20000</td>\n",
       "      <td>Pave</td>\n",
       "      <td>NaN</td>\n",
       "      <td>Reg</td>\n",
       "      <td>Lvl</td>\n",
       "      <td>AllPub</td>\n",
       "      <td>Inside</td>\n",
       "      <td>...</td>\n",
       "      <td>0</td>\n",
       "      <td>NaN</td>\n",
       "      <td>NaN</td>\n",
       "      <td>NaN</td>\n",
       "      <td>0</td>\n",
       "      <td>9</td>\n",
       "      <td>2006</td>\n",
       "      <td>WD</td>\n",
       "      <td>Abnorml</td>\n",
       "      <td>0</td>\n",
       "    </tr>\n",
       "    <tr>\n",
       "      <th>2917</th>\n",
       "      <td>85</td>\n",
       "      <td>RL</td>\n",
       "      <td>62.0</td>\n",
       "      <td>10441</td>\n",
       "      <td>Pave</td>\n",
       "      <td>NaN</td>\n",
       "      <td>Reg</td>\n",
       "      <td>Lvl</td>\n",
       "      <td>AllPub</td>\n",
       "      <td>Inside</td>\n",
       "      <td>...</td>\n",
       "      <td>0</td>\n",
       "      <td>NaN</td>\n",
       "      <td>MnPrv</td>\n",
       "      <td>Shed</td>\n",
       "      <td>700</td>\n",
       "      <td>7</td>\n",
       "      <td>2006</td>\n",
       "      <td>WD</td>\n",
       "      <td>Normal</td>\n",
       "      <td>0</td>\n",
       "    </tr>\n",
       "    <tr>\n",
       "      <th>2918</th>\n",
       "      <td>60</td>\n",
       "      <td>RL</td>\n",
       "      <td>74.0</td>\n",
       "      <td>9627</td>\n",
       "      <td>Pave</td>\n",
       "      <td>NaN</td>\n",
       "      <td>Reg</td>\n",
       "      <td>Lvl</td>\n",
       "      <td>AllPub</td>\n",
       "      <td>Inside</td>\n",
       "      <td>...</td>\n",
       "      <td>0</td>\n",
       "      <td>NaN</td>\n",
       "      <td>NaN</td>\n",
       "      <td>NaN</td>\n",
       "      <td>0</td>\n",
       "      <td>11</td>\n",
       "      <td>2006</td>\n",
       "      <td>WD</td>\n",
       "      <td>Normal</td>\n",
       "      <td>0</td>\n",
       "    </tr>\n",
       "  </tbody>\n",
       "</table>\n",
       "<p>2919 rows × 80 columns</p>\n",
       "</div>"
      ],
      "text/plain": [
       "      MSSubClass MSZoning  LotFrontage  LotArea Street Alley LotShape  \\\n",
       "0             60       RL         65.0     8450   Pave   NaN      Reg   \n",
       "1             20       RL         80.0     9600   Pave   NaN      Reg   \n",
       "2             60       RL         68.0    11250   Pave   NaN      IR1   \n",
       "3             70       RL         60.0     9550   Pave   NaN      IR1   \n",
       "4             60       RL         84.0    14260   Pave   NaN      IR1   \n",
       "...          ...      ...          ...      ...    ...   ...      ...   \n",
       "2914         160       RM         21.0     1936   Pave   NaN      Reg   \n",
       "2915         160       RM         21.0     1894   Pave   NaN      Reg   \n",
       "2916          20       RL        160.0    20000   Pave   NaN      Reg   \n",
       "2917          85       RL         62.0    10441   Pave   NaN      Reg   \n",
       "2918          60       RL         74.0     9627   Pave   NaN      Reg   \n",
       "\n",
       "     LandContour Utilities LotConfig  ... PoolArea PoolQC  Fence MiscFeature  \\\n",
       "0            Lvl    AllPub    Inside  ...        0    NaN    NaN         NaN   \n",
       "1            Lvl    AllPub       FR2  ...        0    NaN    NaN         NaN   \n",
       "2            Lvl    AllPub    Inside  ...        0    NaN    NaN         NaN   \n",
       "3            Lvl    AllPub    Corner  ...        0    NaN    NaN         NaN   \n",
       "4            Lvl    AllPub       FR2  ...        0    NaN    NaN         NaN   \n",
       "...          ...       ...       ...  ...      ...    ...    ...         ...   \n",
       "2914         Lvl    AllPub    Inside  ...        0    NaN    NaN         NaN   \n",
       "2915         Lvl    AllPub    Inside  ...        0    NaN    NaN         NaN   \n",
       "2916         Lvl    AllPub    Inside  ...        0    NaN    NaN         NaN   \n",
       "2917         Lvl    AllPub    Inside  ...        0    NaN  MnPrv        Shed   \n",
       "2918         Lvl    AllPub    Inside  ...        0    NaN    NaN         NaN   \n",
       "\n",
       "     MiscVal MoSold  YrSold  SaleType  SaleCondition  SalePrice  \n",
       "0          0      2    2008        WD         Normal     208500  \n",
       "1          0      5    2007        WD         Normal     181500  \n",
       "2          0      9    2008        WD         Normal     223500  \n",
       "3          0      2    2006        WD        Abnorml     140000  \n",
       "4          0     12    2008        WD         Normal     250000  \n",
       "...      ...    ...     ...       ...            ...        ...  \n",
       "2914       0      6    2006        WD         Normal          0  \n",
       "2915       0      4    2006        WD        Abnorml          0  \n",
       "2916       0      9    2006        WD        Abnorml          0  \n",
       "2917     700      7    2006        WD         Normal          0  \n",
       "2918       0     11    2006        WD         Normal          0  \n",
       "\n",
       "[2919 rows x 80 columns]"
      ]
     },
     "execution_count": 2,
     "metadata": {},
     "output_type": "execute_result"
    }
   ],
   "source": [
    "train_data = pd.read_csv('train.csv')\n",
    "test_data = pd.read_csv('test.csv')\n",
    "test_data['SalePrice'] = 0\n",
    "data = pd.concat([train_data,test_data],axis = 0)\n",
    "data = data.reset_index().drop(['index','Id'],axis = 1)\n",
    "data"
   ]
  },
  {
   "cell_type": "code",
   "execution_count": 3,
   "metadata": {},
   "outputs": [
    {
     "data": {
      "text/plain": [
       "PoolQC          2909\n",
       "MiscFeature     2814\n",
       "Alley           2721\n",
       "Fence           2348\n",
       "FireplaceQu     1420\n",
       "LotFrontage      486\n",
       "GarageFinish     159\n",
       "GarageQual       159\n",
       "GarageCond       159\n",
       "GarageYrBlt      159\n",
       "GarageType       157\n",
       "BsmtCond          82\n",
       "BsmtExposure      82\n",
       "BsmtQual          81\n",
       "BsmtFinType2      80\n",
       "BsmtFinType1      79\n",
       "MasVnrType        24\n",
       "MasVnrArea        23\n",
       "MSZoning           4\n",
       "Functional         2\n",
       "Utilities          2\n",
       "BsmtHalfBath       2\n",
       "BsmtFullBath       2\n",
       "Exterior2nd        1\n",
       "Exterior1st        1\n",
       "BsmtUnfSF          1\n",
       "TotalBsmtSF        1\n",
       "GarageArea         1\n",
       "KitchenQual        1\n",
       "BsmtFinSF2         1\n",
       "GarageCars         1\n",
       "BsmtFinSF1         1\n",
       "SaleType           1\n",
       "Electrical         1\n",
       "dtype: int64"
      ]
     },
     "execution_count": 3,
     "metadata": {},
     "output_type": "execute_result"
    }
   ],
   "source": [
    "missing_values = data.isna().sum().sort_values(ascending = False)\n",
    "missing_list = list(missing_values[missing_values > 0].index)\n",
    "missing_values[missing_values > 0]"
   ]
  },
  {
   "cell_type": "code",
   "execution_count": 4,
   "metadata": {},
   "outputs": [],
   "source": [
    "data['PoolQC'] = data['PoolQC'].fillna('None')\n",
    "data['MiscFeature'] = data['MiscFeature'].fillna('None')\n",
    "data['Alley'] = data['Alley'].fillna('None')\n",
    "data['Fence'] = data['Fence'].fillna('None')\n",
    "data['FireplaceQu'] = data['FireplaceQu'].fillna('None')\n",
    "data['GarageCond'] = data['GarageCond'].fillna('None')\n",
    "data['GarageFinish'] = data['GarageFinish'].fillna('None')\n",
    "data['GarageQual'] = data['GarageQual'].fillna('None')\n",
    "data['GarageType'] = data['GarageType'].fillna('None')\n",
    "data['BsmtExposure'] = data['BsmtExposure'].fillna('None')\n",
    "data['BsmtCond'] = data['BsmtCond'].fillna('None')\n",
    "data['BsmtQual'] = data['BsmtQual'].fillna('None')\n",
    "data['BsmtFinType1'] = data['BsmtFinType1'].fillna('None')\n",
    "data['BsmtFinType2'] = data['BsmtFinType2'].fillna('None')\n",
    "data['MasVnrType'] = data['MasVnrType'].fillna('None')\n",
    "data['MasVnrArea'] = data['MasVnrArea'].fillna(0)\n",
    "\n",
    "for col in ('GarageYrBlt', 'GarageArea', 'GarageCars'):\n",
    "    data[col] = data[col].fillna(0)\n",
    "for col in ('BsmtFinSF1', 'BsmtFinSF2', 'BsmtUnfSF','TotalBsmtSF', 'BsmtFullBath', 'BsmtHalfBath'):\n",
    "    data[col] = data[col].fillna(0)\n",
    "for col in ('MSZoning','Functional','Utilities','Exterior1st','Exterior2nd','SaleType','Electrical','KitchenQual'):\n",
    "    data[col] = data[col].fillna(data[col].mode()[0])\n",
    "\n",
    "data = data.drop(columns = ['LotFrontage'])"
   ]
  },
  {
   "cell_type": "code",
   "execution_count": 5,
   "metadata": {},
   "outputs": [
    {
     "data": {
      "text/plain": [
       "MSSubClass     0\n",
       "GarageType     0\n",
       "FireplaceQu    0\n",
       "Fireplaces     0\n",
       "Functional     0\n",
       "              ..\n",
       "MasVnrType     0\n",
       "Exterior2nd    0\n",
       "Exterior1st    0\n",
       "BsmtQual       0\n",
       "SalePrice      0\n",
       "Length: 79, dtype: int64"
      ]
     },
     "execution_count": 5,
     "metadata": {},
     "output_type": "execute_result"
    }
   ],
   "source": [
    "data.isna().sum().sort_values() "
   ]
  },
  {
   "cell_type": "code",
   "execution_count": 6,
   "metadata": {},
   "outputs": [
    {
     "data": {
      "text/plain": [
       "((1460, 301),\n",
       " (1460,),\n",
       " StratifiedKFold(n_splits=5, random_state=0, shuffle=True))"
      ]
     },
     "execution_count": 6,
     "metadata": {},
     "output_type": "execute_result"
    }
   ],
   "source": [
    "new_data = pd.get_dummies(data)\n",
    "x = new_data.drop('SalePrice',axis = 1).values[:train_data.shape[0],:]\n",
    "y = new_data['SalePrice'].values[:train_data.shape[0]]\n",
    "\n",
    "skf = model_selection.StratifiedKFold(shuffle = True,random_state = 0)\n",
    "x.shape,y.shape,skf"
   ]
  },
  {
   "cell_type": "code",
   "execution_count": 7,
   "metadata": {},
   "outputs": [
    {
     "name": "stdout",
     "output_type": "stream",
     "text": [
      "{'fit_time': array([0.18550515, 0.17951655, 0.16156769, 0.12965298, 0.11569118]), 'score_time': array([0.00099659, 0.00200367, 0.00199437, 0.0009973 , 0.        ]), 'test_score': array([0.82410897, 0.81961147, 0.80184095, 0.88741286, 0.65833672])}\n",
      "0.9352936707520236 0.923780832596351\n",
      "0.931704004403273 0.9399327001931688\n",
      "0.9292265851017737 0.9449687500793655\n",
      "0.9331329236460597 0.9332749294438654\n",
      "0.9363493239348843 0.9216518674176295\n"
     ]
    },
    {
     "name": "stderr",
     "output_type": "stream",
     "text": [
      "C:\\Users\\gnane\\AppData\\Roaming\\Python\\Python38\\site-packages\\sklearn\\model_selection\\_split.py:670: UserWarning: The least populated class in y has only 1 members, which is less than n_splits=5.\n",
      "  warnings.warn((\"The least populated class in y has only %d\"\n"
     ]
    }
   ],
   "source": [
    "LR_model = model_selection.cross_validate(linear_model.LinearRegression(),x,y,cv = 5)\n",
    "print(LR_model)\n",
    "\n",
    "model = linear_model.LinearRegression()\n",
    "model.fit(x,y)\n",
    "\n",
    "for train_index,test_index in skf.split(x,y):\n",
    "    x_train,x_test = x[train_index],x[test_index]\n",
    "    y_train,y_test = y[train_index],y[test_index]\n",
    "    print(model.score(x_train,y_train), model.score(x_test,y_test))"
   ]
  },
  {
   "cell_type": "code",
   "execution_count": 8,
   "metadata": {},
   "outputs": [
    {
     "data": {
      "text/plain": [
       "10.0"
      ]
     },
     "execution_count": 8,
     "metadata": {},
     "output_type": "execute_result"
    }
   ],
   "source": [
    "Ridge_model = linear_model.RidgeCV(cv = 5)\n",
    "Ridge_model.fit(x,y)\n",
    "Ridge_model.alpha_"
   ]
  },
  {
   "cell_type": "code",
   "execution_count": 9,
   "metadata": {},
   "outputs": [
    {
     "name": "stdout",
     "output_type": "stream",
     "text": [
      "{'fit_time': array([0.02593112, 0.02992082, 0.02592969, 0.0269208 , 0.02693677]), 'score_time': array([0.00099683, 0.00199485, 0.00099921, 0.00099969, 0.0019958 ]), 'test_score': array([0.90157467, 0.83254012, 0.87813686, 0.87968302, 0.70958689])}\n",
      "0.9052396209303593 0.8807044769561214\n",
      "0.9114373199683077 0.8512006844919211\n",
      "0.8908625691249126 0.9307758953578293\n",
      "0.8975722921642435 0.9152552894930733\n",
      "0.8975846728086448 0.9118663104424184\n"
     ]
    },
    {
     "name": "stderr",
     "output_type": "stream",
     "text": [
      "C:\\Users\\gnane\\AppData\\Roaming\\Python\\Python38\\site-packages\\sklearn\\model_selection\\_split.py:670: UserWarning: The least populated class in y has only 1 members, which is less than n_splits=5.\n",
      "  warnings.warn((\"The least populated class in y has only %d\"\n"
     ]
    }
   ],
   "source": [
    "Ridge_model = model_selection.cross_validate(linear_model.Ridge(alpha = 10),x,y,cv = 5)\n",
    "print(Ridge_model)\n",
    "\n",
    "model = linear_model.Ridge(alpha = 10)\n",
    "model.fit(x,y)\n",
    "\n",
    "for train_index,test_index in skf.split(x,y):\n",
    "    x_train,x_test = x[train_index],x[test_index]\n",
    "    y_train,y_test = y[train_index],y[test_index]\n",
    "    print(model.score(x_train,y_train), model.score(x_test,y_test))"
   ]
  },
  {
   "cell_type": "code",
   "execution_count": 10,
   "metadata": {},
   "outputs": [
    {
     "data": {
      "text/plain": [
       "{'mean_fit_time': array([ 6.4587491 , 18.08989339,  6.61142359, 18.12377725,  6.16916533,\n",
       "        17.85263686]),\n",
       " 'std_fit_time': array([0.71134554, 0.98468136, 0.80182195, 0.87533971, 0.35059167,\n",
       "        0.42726906]),\n",
       " 'mean_score_time': array([0.02692752, 0.06464295, 0.0259306 , 0.07899604, 0.02394223,\n",
       "        0.05926099]),\n",
       " 'std_score_time': array([0.00418512, 0.00297666, 0.00572684, 0.01470588, 0.00324161,\n",
       "        0.00233535]),\n",
       " 'param_ccp_alpha': masked_array(data=[0, 0, 10000, 10000, 100000, 100000],\n",
       "              mask=[False, False, False, False, False, False],\n",
       "        fill_value='?',\n",
       "             dtype=object),\n",
       " 'param_n_estimators': masked_array(data=[100, 300, 100, 300, 100, 300],\n",
       "              mask=[False, False, False, False, False, False],\n",
       "        fill_value='?',\n",
       "             dtype=object),\n",
       " 'params': [{'ccp_alpha': 0, 'n_estimators': 100},\n",
       "  {'ccp_alpha': 0, 'n_estimators': 300},\n",
       "  {'ccp_alpha': 10000, 'n_estimators': 100},\n",
       "  {'ccp_alpha': 10000, 'n_estimators': 300},\n",
       "  {'ccp_alpha': 100000, 'n_estimators': 100},\n",
       "  {'ccp_alpha': 100000, 'n_estimators': 300}],\n",
       " 'split0_test_score': array([0.86963254, 0.86799621, 0.86469722, 0.8664206 , 0.87365917,\n",
       "        0.86884737]),\n",
       " 'split1_test_score': array([0.83803483, 0.843082  , 0.84106138, 0.83840016, 0.84417192,\n",
       "        0.84557747]),\n",
       " 'split2_test_score': array([0.86872423, 0.87450685, 0.87920706, 0.87366218, 0.86852803,\n",
       "        0.87639969]),\n",
       " 'split3_test_score': array([0.8891499 , 0.87873532, 0.88991811, 0.8836155 , 0.88946446,\n",
       "        0.88207598]),\n",
       " 'split4_test_score': array([0.8261036 , 0.81064497, 0.81462847, 0.80779262, 0.81697837,\n",
       "        0.81666718]),\n",
       " 'mean_test_score': array([0.85832902, 0.85499307, 0.85790245, 0.85397821, 0.85856039,\n",
       "        0.85791354]),\n",
       " 'std_test_score': array([0.02296122, 0.02538579, 0.02713417, 0.02755513, 0.02537117,\n",
       "        0.02407717]),\n",
       " 'rank_test_score': array([2, 5, 4, 6, 1, 3])}"
      ]
     },
     "execution_count": 10,
     "metadata": {},
     "output_type": "execute_result"
    }
   ],
   "source": [
    "params = {\n",
    "    'n_estimators' : [100,300],\n",
    "    'ccp_alpha' : [0,10000,100000]\n",
    "}\n",
    "ensemble.RandomForestRegressor()\n",
    "Forest_model = model_selection.GridSearchCV(ensemble.RandomForestRegressor(),param_grid = params,cv = 5)\n",
    "Forest_model.fit(x,y)\n",
    "Forest_model.cv_results_"
   ]
  },
  {
   "cell_type": "code",
   "execution_count": 11,
   "metadata": {},
   "outputs": [
    {
     "data": {
      "text/plain": [
       "{'fit_time': array([5.47740126, 6.1446166 , 6.57242751, 7.70141172, 6.31018424]),\n",
       " 'score_time': array([0.0219419 , 0.02193618, 0.03590512, 0.03590298, 0.02392983]),\n",
       " 'test_score': array([0.87615371, 0.85268851, 0.86950309, 0.87695243, 0.8138749 ])}"
      ]
     },
     "execution_count": 11,
     "metadata": {},
     "output_type": "execute_result"
    }
   ],
   "source": [
    "Forest_model = model_selection.cross_validate(ensemble.RandomForestRegressor(n_estimators = 100,criterion = 'mse',ccp_alpha = 0),x,y,cv = 5)\n",
    "Forest_model"
   ]
  },
  {
   "cell_type": "code",
   "execution_count": 12,
   "metadata": {},
   "outputs": [
    {
     "name": "stdout",
     "output_type": "stream",
     "text": [
      "{'mean_fit_time': array([5.04875822, 7.04572959]), 'std_fit_time': array([0.42331307, 0.64376461]), 'mean_score_time': array([0.0041801 , 0.00439062]), 'std_score_time': array([0.00097931, 0.00080376]), 'param_max_depth': masked_array(data=[2, 3],\n",
      "             mask=[False, False],\n",
      "       fill_value='?',\n",
      "            dtype=object), 'param_n_estimators': masked_array(data=[300, 300],\n",
      "             mask=[False, False],\n",
      "       fill_value='?',\n",
      "            dtype=object), 'params': [{'max_depth': 2, 'n_estimators': 300}, {'max_depth': 3, 'n_estimators': 300}], 'split0_test_score': array([0.9041614 , 0.90678225]), 'split1_test_score': array([0.84878293, 0.83224467]), 'split2_test_score': array([0.90692946, 0.90985577]), 'split3_test_score': array([0.90874521, 0.91242891]), 'split4_test_score': array([0.92158158, 0.90781622]), 'mean_test_score': array([0.89804012, 0.89382557]), 'std_test_score': array([0.02534388, 0.03085084]), 'rank_test_score': array([1, 2])}\n",
      "0.9692068234588965 0.9619860157259439\n",
      "0.9686754255588562 0.964179842437153\n",
      "0.9649401505397314 0.9768075879445204\n",
      "0.9680112896283556 0.967214667975383\n",
      "0.9683455332389193 0.9661471867867847\n"
     ]
    },
    {
     "name": "stderr",
     "output_type": "stream",
     "text": [
      "C:\\Users\\gnane\\AppData\\Roaming\\Python\\Python38\\site-packages\\sklearn\\model_selection\\_split.py:670: UserWarning: The least populated class in y has only 1 members, which is less than n_splits=5.\n",
      "  warnings.warn((\"The least populated class in y has only %d\"\n"
     ]
    }
   ],
   "source": [
    "params = {\n",
    "    'n_estimators' : [300],\n",
    "    'max_depth' : [2,3]\n",
    "}\n",
    "\n",
    "ensemble.GradientBoostingRegressor()\n",
    "GB_model = model_selection.GridSearchCV(ensemble.GradientBoostingRegressor(),param_grid = params,cv = 5)\n",
    "GB_model.fit(x,y)\n",
    "print(GB_model.cv_results_)\n",
    "\n",
    "model = ensemble.GradientBoostingRegressor(n_estimators = 300,max_depth = 2)\n",
    "model.fit(x,y)\n",
    "\n",
    "for train_index,test_index in skf.split(x,y):\n",
    "    x_train,x_test = x[train_index],x[test_index]\n",
    "    y_train,y_test = y[train_index],y[test_index]\n",
    "    print(model.score(x_train,y_train), model.score(x_test,y_test))"
   ]
  },
  {
   "cell_type": "code",
   "execution_count": 13,
   "metadata": {},
   "outputs": [],
   "source": [
    "# xgb.XGBRegressor()"
   ]
  },
  {
   "cell_type": "code",
   "execution_count": 14,
   "metadata": {},
   "outputs": [],
   "source": [
    "# estimators = [\n",
    "#     ('ridge',linear_model.Ridge(alpha = 10)),\n",
    "#     ('gb',ensemble.GradientBoostingRegressor(n_estimators = 300))\n",
    "#              ]\n",
    "# model = ensemble.StackingRegressor(estimators = estimators,final_estimator = ensemble.GradientBoostingRegressor(n_estimators = 200),cv = 5)\n",
    "# model.fit(x,y)\n",
    "# model.score(x,y)"
   ]
  },
  {
   "cell_type": "code",
   "execution_count": 15,
   "metadata": {},
   "outputs": [
    {
     "name": "stdout",
     "output_type": "stream",
     "text": [
      "0.9821658603833068\n",
      "0.9827939507385239 0.9793715393363175\n",
      "0.9825328801131044 0.9804517271044414\n",
      "0.9809782285073617 0.9857261463945577\n",
      "0.982425487166938 0.9809235330794452\n",
      "0.9819856095071144 0.9827779714251094\n"
     ]
    },
    {
     "name": "stderr",
     "output_type": "stream",
     "text": [
      "C:\\Users\\gnane\\AppData\\Roaming\\Python\\Python38\\site-packages\\sklearn\\model_selection\\_split.py:670: UserWarning: The least populated class in y has only 1 members, which is less than n_splits=5.\n",
      "  warnings.warn((\"The least populated class in y has only %d\"\n"
     ]
    },
    {
     "name": "stdout",
     "output_type": "stream",
     "text": [
      "{'fit_time': array([33.14120817, 31.75870562, 32.46113944, 31.74668169, 32.65366054]), 'score_time': array([0.00897765, 0.00498247, 0.00499392, 0.00498939, 0.00498366]), 'test_score': array([0.90882077, 0.85526209, 0.90597889, 0.91145177, 0.85152996])}\n"
     ]
    }
   ],
   "source": [
    "estimators = [\n",
    "    ('ridge',linear_model.Ridge(alpha = 10)),\n",
    "    ('gb',ensemble.GradientBoostingRegressor(n_estimators = 300))\n",
    "             ]\n",
    "model = ensemble.StackingRegressor(estimators = estimators,final_estimator = linear_model.LinearRegression(),cv = 5)\n",
    "model.fit(x,y)\n",
    "print(model.score(x,y))\n",
    "\n",
    "for train_index,test_index in skf.split(x,y):\n",
    "    x_train,x_test = x[train_index],x[test_index]\n",
    "    y_train,y_test = y[train_index],y[test_index]\n",
    "    print(model.score(x_train,y_train), model.score(x_test,y_test))\n",
    "\n",
    "model_1 = model_selection.cross_validate(model,x,y,cv = 5)\n",
    "print(model_1)"
   ]
  },
  {
   "cell_type": "code",
   "execution_count": 16,
   "metadata": {},
   "outputs": [],
   "source": [
    "# estimators = [\n",
    "#     ('ridge',linear_model.Ridge(alpha = 10)),\n",
    "#     ('gb',ensemble.GradientBoostingRegressor(n_estimators = 300))\n",
    "#              ]\n",
    "# model = ensemble.StackingRegressor(estimators = estimators,final_estimator = ensemble.GradientBoostingRegressor(n_estimators = 300),cv = 5)\n",
    "# model.fit(x,y)\n",
    "# model.score(x,y)"
   ]
  },
  {
   "cell_type": "code",
   "execution_count": 17,
   "metadata": {},
   "outputs": [],
   "source": [
    "# estimators = [\n",
    "#     ('ridge',linear_model.Ridge(alpha = 10)),\n",
    "#     ('gb',ensemble.GradientBoostingRegressor(n_estimators = 300))\n",
    "#              ]\n",
    "# model = ensemble.StackingRegressor(estimators = estimators,final_estimator = ensemble.GradientBoostingRegressor(n_estimators = 100),cv = 5)\n",
    "# model.fit(x,y)\n",
    "# model.score(x,y)"
   ]
  },
  {
   "cell_type": "code",
   "execution_count": 18,
   "metadata": {},
   "outputs": [],
   "source": [
    "# estimators = [\n",
    "#     ('ridge',linear_model.Ridge(alpha = 10)),\n",
    "#     ('gb',ensemble.GradientBoostingRegressor(n_estimators = 300))\n",
    "#              ]\n",
    "# model = ensemble.StackingRegressor(estimators = estimators,final_estimator = ensemble.GradientBoostingRegressor(n_estimators = 300),cv = 5)\n",
    "# model.fit(x,y)\n",
    "# model.score(x,y)"
   ]
  },
  {
   "cell_type": "code",
   "execution_count": 19,
   "metadata": {},
   "outputs": [],
   "source": [
    "# estimators = [\n",
    "#     ('tree',ensemble.RandomForestRegressor(ccp_alpha = 100000,n_estimators = 300)),\n",
    "#     ('ridge',linear_model.Ridge(alpha = 10)),\n",
    "#     ('gb',ensemble.GradientBoostingRegressor(n_estimators = 300))\n",
    "#              ]\n",
    "# model = ensemble.StackingRegressor(estimators = estimators,final_estimator = ensemble.GradientBoostingRegressor(n_estimators = 300),cv = 5)\n",
    "# model.fit(x,y)\n",
    "# model.score(x,y)"
   ]
  },
  {
   "cell_type": "code",
   "execution_count": 20,
   "metadata": {},
   "outputs": [],
   "source": [
    "# estimators = [\n",
    "#     ('tree',ensemble.RandomForestRegressor(ccp_alpha = 100000,n_estimators = 300)),\n",
    "#     ('ridge',linear_model.Ridge(alpha = 10)),\n",
    "#     ('gb',ensemble.GradientBoostingRegressor(n_estimators = 300))\n",
    "#              ]\n",
    "# model = ensemble.StackingRegressor(estimators = estimators,final_estimator = ensemble.GradientBoostingRegressor(n_estimators = 200),cv = 5)\n",
    "# model.fit(x,y)\n",
    "# model.score(x,y)"
   ]
  },
  {
   "cell_type": "code",
   "execution_count": 21,
   "metadata": {},
   "outputs": [],
   "source": [
    "# estimators = [\n",
    "#     ('tree',ensemble.RandomForestRegressor(ccp_alpha = 100000,n_estimators = 300)),\n",
    "#     ('ridge',linear_model.Ridge(alpha = 10)),\n",
    "#     ('gb',ensemble.GradientBoostingRegressor(n_estimators = 300))\n",
    "#              ]\n",
    "# model = ensemble.StackingRegressor(estimators = estimators,final_estimator = ensemble.GradientBoostingRegressor(n_estimators = 100),cv = 5)\n",
    "# model.fit(x,y)\n",
    "# model.score(x,y)"
   ]
  },
  {
   "cell_type": "code",
   "execution_count": 22,
   "metadata": {},
   "outputs": [],
   "source": [
    "# estimators = [\n",
    "#     ('tree',ensemble.RandomForestRegressor(ccp_alpha = 100000,n_estimators = 300)),\n",
    "#     ('ridge',linear_model.Ridge(alpha = 10)),\n",
    "#     ('gb',ensemble.GradientBoostingRegressor(n_estimators = 300))\n",
    "#              ]\n",
    "# model = ensemble.StackingRegressor(estimators = estimators,final_estimator = tree.DecisionTreeRegressor(),cv = 5)\n",
    "# model.fit(x,y)\n",
    "# model.score(x,y)"
   ]
  },
  {
   "cell_type": "code",
   "execution_count": 23,
   "metadata": {},
   "outputs": [
    {
     "name": "stdout",
     "output_type": "stream",
     "text": [
      "0.9818142392845777\n"
     ]
    },
    {
     "name": "stderr",
     "output_type": "stream",
     "text": [
      "C:\\Users\\gnane\\AppData\\Roaming\\Python\\Python38\\site-packages\\sklearn\\model_selection\\_split.py:670: UserWarning: The least populated class in y has only 1 members, which is less than n_splits=5.\n",
      "  warnings.warn((\"The least populated class in y has only %d\"\n"
     ]
    },
    {
     "name": "stdout",
     "output_type": "stream",
     "text": [
      "0.9824340786446034 0.979056487808399\n",
      "0.9821800173509152 0.9801054680216147\n",
      "0.9806059012985923 0.9854362304102499\n",
      "0.9821044613213799 0.9804289232437806\n",
      "0.9816314567977019 0.9824347425083246\n",
      "{'fit_time': array([125.27425694, 111.70772862,  65.94384456, 102.91580486,\n",
      "        96.88926435]), 'score_time': array([0.12473655, 0.06248569, 0.08677006, 0.05383492, 0.02888536]), 'test_score': array([0.90803676, 0.83917184, 0.90295657, 0.90673751, 0.83685076])}\n"
     ]
    }
   ],
   "source": [
    "estimators = [\n",
    "    ('tree',ensemble.RandomForestRegressor(ccp_alpha = 100000,n_estimators = 300)),\n",
    "    ('ridge',linear_model.Ridge(alpha = 10)),\n",
    "    ('gb',ensemble.GradientBoostingRegressor(n_estimators = 300))\n",
    "             ]\n",
    "model = ensemble.StackingRegressor(estimators = estimators,final_estimator = linear_model.LinearRegression(),cv = 5)\n",
    "model.fit(x,y)\n",
    "print(model.score(x,y))\n",
    "\n",
    "for train_index,test_index in skf.split(x,y):\n",
    "    x_train,x_test = x[train_index],x[test_index]\n",
    "    y_train,y_test = y[train_index],y[test_index]\n",
    "    print(model.score(x_train,y_train), model.score(x_test,y_test))\n",
    "\n",
    "CV = model_selection.cross_validate(model,x,y,cv = 5)\n",
    "print(CV)\n",
    "\n"
   ]
  },
  {
   "cell_type": "code",
   "execution_count": 24,
   "metadata": {},
   "outputs": [],
   "source": [
    "x_test = new_data.drop('SalePrice',axis = 1).values[train_data.shape[0]:,:]\n",
    "y_pred = model.predict(x_test)\n",
    "\n",
    "submission = pd.DataFrame({\n",
    "    'Id' : range(1461,1461 + 1459),\n",
    "    'SalePrice' : y_pred\n",
    "})\n",
    "submission\n",
    "submission.to_csv('submission.csv',index = False)"
   ]
  },
  {
   "cell_type": "code",
   "execution_count": 25,
   "metadata": {},
   "outputs": [
    {
     "data": {
      "text/plain": [
       "((1460, 153), (1460,))"
      ]
     },
     "execution_count": 25,
     "metadata": {},
     "output_type": "execute_result"
    }
   ],
   "source": [
    "new_data = data.drop(columns = ['Street','Alley','Utilities','LandSlope','Condition2',\n",
    "                            'RoofMatl','ExterCond','Heating','CentralAir','Electrical',\n",
    "                            'LowQualFinSF','BsmtFullBath','BsmtHalfBath','HalfBath',\n",
    "                            'BedroomAbvGr','KitchenAbvGr','Functional','FireplaceQu',\n",
    "                            'GarageType','GarageYrBlt','GarageFinish','GarageQual',\n",
    "                            'GarageCond','PavedDrive','WoodDeckSF','OpenPorchSF',\n",
    "                            'EnclosedPorch','3SsnPorch','ScreenPorch','PoolArea','PoolQC',\n",
    "                            'Fence','MiscFeature','MiscVal','MoSold','SaleType','SaleCondition',\n",
    "                            'MSSubClass','LotArea','GrLivArea','TotRmsAbvGrd',\n",
    "                            'BsmtFinSF1','BsmtFinSF2','BsmtUnfSF','GarageArea','YearRemodAdd',\n",
    "                            'OverallCond'])\n",
    "\n",
    "def function(x):\n",
    "    if x == 'None':\n",
    "        return 0\n",
    "    elif x == 'Po':\n",
    "        return 1\n",
    "    elif x == 'Fa':\n",
    "        return 2\n",
    "    elif x == 'TA':\n",
    "        return 3\n",
    "    elif x == 'Gd':\n",
    "        return 4\n",
    "    elif x == 'Ex':\n",
    "        return 5\n",
    "    \n",
    "new_data['TotalFlrSF'] = new_data['2ndFlrSF'] + new_data['1stFlrSF']\n",
    "new_data['ExterQual_rank'] = new_data['ExterQual'].apply(function)\n",
    "new_data['BsmtQual_rank'] = new_data['BsmtQual'].apply(function)\n",
    "new_data['KitchenQual_rank'] = new_data['KitchenQual'].apply(function)\n",
    "\n",
    "new_data = new_data.drop(columns = ['1stFlrSF','2ndFlrSF','KitchenQual','BsmtQual','ExterQual'])\n",
    "new_data = pd.get_dummies(new_data)\n",
    "\n",
    "x = new_data.drop('SalePrice',axis = 1).values[:train_data.shape[0],:]\n",
    "y = new_data['SalePrice'].values[:train_data.shape[0]]\n",
    "x.shape,y.shape"
   ]
  },
  {
   "cell_type": "code",
   "execution_count": 26,
   "metadata": {},
   "outputs": [
    {
     "name": "stdout",
     "output_type": "stream",
     "text": [
      "{'fit_time': array([0.07369518, 0.05784369, 0.05077553, 0.04787254, 0.04685545]), 'score_time': array([0.0009985 , 0.00099754, 0.0009973 , 0.        , 0.00099778]), 'test_score': array([0.86850548, 0.81147249, 0.83362757, 0.82721198, 0.73896047])}\n",
      "0.8746492671698336 0.8532318792071826\n",
      "0.8805008922257005 0.82540322925227\n",
      "0.8571467703799964 0.9120813179465227\n",
      "0.8696273436728824 0.8755470537768065\n",
      "0.8705095480605844 0.8712124778989483\n"
     ]
    },
    {
     "name": "stderr",
     "output_type": "stream",
     "text": [
      "C:\\Users\\gnane\\AppData\\Roaming\\Python\\Python38\\site-packages\\sklearn\\model_selection\\_split.py:670: UserWarning: The least populated class in y has only 1 members, which is less than n_splits=5.\n",
      "  warnings.warn((\"The least populated class in y has only %d\"\n"
     ]
    }
   ],
   "source": [
    "LR_model = model_selection.cross_validate(linear_model.LinearRegression(),x,y,cv = 5)\n",
    "print(LR_model)\n",
    "\n",
    "model = linear_model.LinearRegression()\n",
    "model.fit(x,y)\n",
    "\n",
    "for train_index,test_index in skf.split(x,y):\n",
    "    x_train,x_test = x[train_index],x[test_index]\n",
    "    y_train,y_test = y[train_index],y[test_index]\n",
    "    print(model.score(x_train,y_train), model.score(x_test,y_test))"
   ]
  },
  {
   "cell_type": "code",
   "execution_count": 27,
   "metadata": {},
   "outputs": [
    {
     "data": {
      "text/plain": [
       "29660.447248571938"
      ]
     },
     "execution_count": 27,
     "metadata": {},
     "output_type": "execute_result"
    }
   ],
   "source": [
    "Lasso_model = linear_model.LassoCV(cv = 5)\n",
    "Lasso_model.fit(x,y)\n",
    "Lasso_model.alpha_"
   ]
  },
  {
   "cell_type": "code",
   "execution_count": 28,
   "metadata": {},
   "outputs": [
    {
     "data": {
      "text/plain": [
       "10.0"
      ]
     },
     "execution_count": 28,
     "metadata": {},
     "output_type": "execute_result"
    }
   ],
   "source": [
    "Ridge_model = linear_model.RidgeCV(cv = 5)\n",
    "Ridge_model.fit(x,y)\n",
    "Ridge_model.alpha_"
   ]
  },
  {
   "cell_type": "code",
   "execution_count": 29,
   "metadata": {},
   "outputs": [
    {
     "data": {
      "text/plain": [
       "({'fit_time': array([0.0738852 , 0.0676198 , 0.06385303, 0.06492043, 0.0534966 ]),\n",
       "  'score_time': array([0.00099754, 0.00099754, 0.00099826, 0.0009973 , 0.        ]),\n",
       "  'test_score': array([0.87089518, 0.81598122, 0.84102397, 0.83253985, 0.74393762])},\n",
       " 0.8208755693469074)"
      ]
     },
     "execution_count": 29,
     "metadata": {},
     "output_type": "execute_result"
    }
   ],
   "source": [
    "Lasso_model = model_selection.cross_validate(linear_model.Lasso(alpha = 10),x,y,cv = 5)\n",
    "Lasso_model,Lasso_model['test_score'].mean()"
   ]
  },
  {
   "cell_type": "code",
   "execution_count": 30,
   "metadata": {},
   "outputs": [
    {
     "data": {
      "text/plain": [
       "{'fit_time': array([0.00697875, 0.00685787, 0.00673318, 0.00698256, 0.00699019]),\n",
       " 'score_time': array([0.00099707, 0.00099683, 0.00100017, 0.00099611, 0.00099707]),\n",
       " 'test_score': array([0.87783017, 0.82309797, 0.85238789, 0.84796611, 0.7480761 ])}"
      ]
     },
     "execution_count": 30,
     "metadata": {},
     "output_type": "execute_result"
    }
   ],
   "source": [
    "Ridge_model = model_selection.cross_validate(linear_model.Ridge(alpha = 10),x,y,cv = 5)\n",
    "Ridge_model"
   ]
  },
  {
   "cell_type": "code",
   "execution_count": 31,
   "metadata": {},
   "outputs": [
    {
     "data": {
      "text/plain": [
       "({'fit_time': array([0.00997806, 0.00893903, 0.00902176, 0.00897694, 0.00861454]),\n",
       "  'score_time': array([0.0010004 , 0.00099587, 0.00095129, 0.00199294, 0.00103736]),\n",
       "  'test_score': array([0.72836929, 0.70573376, 0.76329635, 0.73839179, 0.51761279])},\n",
       " 0.6906807937184885)"
      ]
     },
     "execution_count": 31,
     "metadata": {},
     "output_type": "execute_result"
    }
   ],
   "source": [
    "Lasso_model = model_selection.cross_validate(linear_model.Lasso(alpha = 29660.4472),x,y,cv = 5)\n",
    "Lasso_model,Lasso_model['test_score'].mean()"
   ]
  },
  {
   "cell_type": "code",
   "execution_count": 32,
   "metadata": {},
   "outputs": [
    {
     "data": {
      "text/plain": [
       "{'fit_time': array([1.30587935, 1.27998376, 1.29908848, 1.31031466, 1.28456545]),\n",
       " 'score_time': array([0.00996947, 0.00996923, 0.01107574, 0.00997376, 0.00997376]),\n",
       " 'test_score': array([0.85960077, 0.82265345, 0.87094106, 0.89852835, 0.81130807])}"
      ]
     },
     "execution_count": 32,
     "metadata": {},
     "output_type": "execute_result"
    }
   ],
   "source": [
    "Forest_model = model_selection.cross_validate(ensemble.RandomForestRegressor(n_estimators = 100,criterion = 'mse',ccp_alpha = 0),x,y,cv = 5)\n",
    "Forest_model"
   ]
  },
  {
   "cell_type": "code",
   "execution_count": 33,
   "metadata": {},
   "outputs": [
    {
     "data": {
      "text/plain": [
       "{'mean_fit_time': array([1.29135933, 4.96015468, 3.2345222 , 8.57043791, 3.13033257,\n",
       "        9.18152623]),\n",
       " 'std_fit_time': array([0.00919978, 1.69552539, 0.08908359, 0.05153756, 0.23132549,\n",
       "        0.43968332]),\n",
       " 'mean_score_time': array([0.00997124, 0.04668202, 0.02274261, 0.05844259, 0.02254248,\n",
       "        0.0591526 ]),\n",
       " 'std_score_time': array([1.98102742e-06, 1.72904122e-02, 1.16786346e-03, 1.01810833e-03,\n",
       "        2.79144021e-03, 4.95348235e-03]),\n",
       " 'param_ccp_alpha': masked_array(data=[0, 0, 10000, 10000, 100000, 100000],\n",
       "              mask=[False, False, False, False, False, False],\n",
       "        fill_value='?',\n",
       "             dtype=object),\n",
       " 'param_n_estimators': masked_array(data=[100, 300, 100, 300, 100, 300],\n",
       "              mask=[False, False, False, False, False, False],\n",
       "        fill_value='?',\n",
       "             dtype=object),\n",
       " 'params': [{'ccp_alpha': 0, 'n_estimators': 100},\n",
       "  {'ccp_alpha': 0, 'n_estimators': 300},\n",
       "  {'ccp_alpha': 10000, 'n_estimators': 100},\n",
       "  {'ccp_alpha': 10000, 'n_estimators': 300},\n",
       "  {'ccp_alpha': 100000, 'n_estimators': 100},\n",
       "  {'ccp_alpha': 100000, 'n_estimators': 300}],\n",
       " 'split0_test_score': array([0.85470608, 0.8543733 , 0.85112439, 0.85933474, 0.85487024,\n",
       "        0.85698384]),\n",
       " 'split1_test_score': array([0.80490012, 0.80395639, 0.81824883, 0.81886752, 0.81773761,\n",
       "        0.80188504]),\n",
       " 'split2_test_score': array([0.87335164, 0.87187509, 0.87035775, 0.86748271, 0.87356789,\n",
       "        0.86959523]),\n",
       " 'split3_test_score': array([0.89079611, 0.90084753, 0.89329227, 0.89585016, 0.89662398,\n",
       "        0.89968868]),\n",
       " 'split4_test_score': array([0.80888761, 0.82064176, 0.80898416, 0.82520956, 0.81786457,\n",
       "        0.81983396]),\n",
       " 'mean_test_score': array([0.84652831, 0.85033881, 0.84840148, 0.85334894, 0.85213286,\n",
       "        0.84959735]),\n",
       " 'std_test_score': array([0.03433871, 0.03482661, 0.0315201 , 0.02836456, 0.03099601,\n",
       "        0.03500269]),\n",
       " 'rank_test_score': array([6, 3, 5, 1, 2, 4])}"
      ]
     },
     "execution_count": 33,
     "metadata": {},
     "output_type": "execute_result"
    }
   ],
   "source": [
    "params = {\n",
    "    'n_estimators' : [100,300],\n",
    "    'ccp_alpha' : [0,10000,100000]\n",
    "}\n",
    "ensemble.RandomForestRegressor()\n",
    "Forest_model = model_selection.GridSearchCV(ensemble.RandomForestRegressor(),param_grid = params,cv = 5)\n",
    "Forest_model.fit(x,y)\n",
    "Forest_model.cv_results_"
   ]
  },
  {
   "cell_type": "code",
   "execution_count": 34,
   "metadata": {},
   "outputs": [
    {
     "data": {
      "text/plain": [
       "{'mean_fit_time': array([0.79357982, 2.34072123, 0.96136599, 2.87859759, 1.24407153,\n",
       "        3.75936108, 1.19241152, 2.1350997 ]),\n",
       " 'std_fit_time': array([0.01369357, 0.03761995, 0.00488559, 0.01935829, 0.00573357,\n",
       "        0.01299936, 0.3970802 , 0.01306478]),\n",
       " 'mean_score_time': array([0.00218482, 0.00337968, 0.00219421, 0.00399017, 0.00239468,\n",
       "        0.00418787, 0.00219455, 0.00259213]),\n",
       " 'std_score_time': array([3.85214113e-04, 4.75956022e-04, 4.00642979e-04, 3.98950589e-07,\n",
       "        4.89103800e-04, 4.00167510e-04, 7.46697462e-04, 4.89337564e-04]),\n",
       " 'param_max_depth': masked_array(data=[2, 2, 3, 3, 4, 4, 5, 5],\n",
       "              mask=[False, False, False, False, False, False, False, False],\n",
       "        fill_value='?',\n",
       "             dtype=object),\n",
       " 'param_n_estimators': masked_array(data=[100, 300, 100, 300, 100, 300, 100, 300],\n",
       "              mask=[False, False, False, False, False, False, False, False],\n",
       "        fill_value='?',\n",
       "             dtype=object),\n",
       " 'params': [{'max_depth': 2, 'n_estimators': 100},\n",
       "  {'max_depth': 2, 'n_estimators': 300},\n",
       "  {'max_depth': 3, 'n_estimators': 100},\n",
       "  {'max_depth': 3, 'n_estimators': 300},\n",
       "  {'max_depth': 4, 'n_estimators': 100},\n",
       "  {'max_depth': 4, 'n_estimators': 300},\n",
       "  {'max_depth': 5, 'n_estimators': 100},\n",
       "  {'max_depth': 5, 'n_estimators': 300}],\n",
       " 'split0_test_score': array([0.88121174, 0.88260343, 0.88778033, 0.8908795 , 0.87738236,\n",
       "        0.87451659, 0.86173023, 0.86270944]),\n",
       " 'split1_test_score': array([0.83550667, 0.8465262 , 0.83185238, 0.81304218, 0.82822149,\n",
       "        0.80521801, 0.80763255, 0.81672202]),\n",
       " 'split2_test_score': array([0.87420251, 0.88417859, 0.87997794, 0.8805965 , 0.89127419,\n",
       "        0.89177995, 0.88164531, 0.88332623]),\n",
       " 'split3_test_score': array([0.89192298, 0.90793789, 0.89800245, 0.90708653, 0.90672104,\n",
       "        0.90359789, 0.91377941, 0.91679801]),\n",
       " 'split4_test_score': array([0.87032307, 0.88542911, 0.87873969, 0.88143215, 0.84969993,\n",
       "        0.8491059 , 0.869602  , 0.87393424]),\n",
       " 'mean_test_score': array([0.87063339, 0.88133504, 0.87527056, 0.87460737, 0.8706598 ,\n",
       "        0.86484367, 0.8668779 , 0.87069799]),\n",
       " 'std_test_score': array([0.01903612, 0.01972726, 0.02277089, 0.03222545, 0.02832273,\n",
       "        0.0349969 , 0.03453045, 0.0324727 ]),\n",
       " 'rank_test_score': array([6, 1, 2, 3, 5, 8, 7, 4])}"
      ]
     },
     "execution_count": 34,
     "metadata": {},
     "output_type": "execute_result"
    }
   ],
   "source": [
    "params = {\n",
    "    'n_estimators' : [100,300],\n",
    "    'max_depth' : [2,3,4,5]\n",
    "}\n",
    "ensemble.GradientBoostingRegressor()\n",
    "GB_model = model_selection.GridSearchCV(ensemble.GradientBoostingRegressor(),param_grid = params,cv = 5)\n",
    "GB_model.fit(x,y)\n",
    "GB_model.cv_results_"
   ]
  },
  {
   "cell_type": "code",
   "execution_count": 35,
   "metadata": {},
   "outputs": [
    {
     "name": "stdout",
     "output_type": "stream",
     "text": [
      "0.9534299182166313 0.9509597158079481\n",
      "0.9531789013705366 0.9520005269540724\n",
      "0.9503815980708948 0.9606891580510674\n",
      "0.9541577701393864 0.9473993997472412\n",
      "0.9535271567666224 0.9509081061596868\n"
     ]
    },
    {
     "name": "stderr",
     "output_type": "stream",
     "text": [
      "C:\\Users\\gnane\\AppData\\Roaming\\Python\\Python38\\site-packages\\sklearn\\model_selection\\_split.py:670: UserWarning: The least populated class in y has only 1 members, which is less than n_splits=5.\n",
      "  warnings.warn((\"The least populated class in y has only %d\"\n"
     ]
    }
   ],
   "source": [
    "model = ensemble.GradientBoostingRegressor(max_depth = 2,n_estimators = 300)\n",
    "model.fit(x,y)\n",
    "\n",
    "for train_index,test_index in skf.split(x,y):\n",
    "    x_train,x_test = x[train_index],x[test_index]\n",
    "    y_train,y_test = y[train_index],y[test_index]\n",
    "    print(model.score(x_train,y_train), model.score(x_test,y_test))\n",
    "    "
   ]
  },
  {
   "cell_type": "code",
   "execution_count": 36,
   "metadata": {},
   "outputs": [
    {
     "name": "stdout",
     "output_type": "stream",
     "text": [
      "0.9147453945948149\n",
      "0.908922212787362 0.9405930389242156\n",
      "0.9099781843782027 0.9366740129994813\n",
      "0.9019697621411668 0.9540075706427469\n",
      "0.9061191208579646 0.9547013810228653\n",
      "0.9471938642299361 0.797878304463098\n"
     ]
    },
    {
     "name": "stderr",
     "output_type": "stream",
     "text": [
      "C:\\Users\\gnane\\AppData\\Roaming\\Python\\Python38\\site-packages\\sklearn\\model_selection\\_split.py:670: UserWarning: The least populated class in y has only 1 members, which is less than n_splits=5.\n",
      "  warnings.warn((\"The least populated class in y has only %d\"\n"
     ]
    }
   ],
   "source": [
    "estimators = [\n",
    "    ('ridge',linear_model.Ridge(alpha = 10)),\n",
    "    ('gb',ensemble.GradientBoostingRegressor(n_estimators = 300))\n",
    "             ]\n",
    "model = ensemble.StackingRegressor(estimators = estimators,final_estimator = ensemble.GradientBoostingRegressor(n_estimators = 200),cv = 5)\n",
    "model.fit(x,y)\n",
    "print(model.score(x,y))\n",
    "\n",
    "for train_index,test_index in skf.split(x,y):\n",
    "    x_train,x_test = x[train_index],x[test_index]\n",
    "    y_train,y_test = y[train_index],y[test_index]\n",
    "    print(model.score(x_train,y_train), model.score(x_test,y_test))"
   ]
  },
  {
   "cell_type": "code",
   "execution_count": 37,
   "metadata": {},
   "outputs": [
    {
     "name": "stdout",
     "output_type": "stream",
     "text": [
      "0.9683116049949786\n",
      "0.9693641894522642 0.9636283199904485\n",
      "0.9686374069768232 0.9667731520087274\n",
      "0.9664110512293217 0.9739806335338445\n",
      "0.969137447994409 0.9644087119822913\n",
      "0.9678141794341643 0.9700363077185347\n"
     ]
    },
    {
     "name": "stderr",
     "output_type": "stream",
     "text": [
      "C:\\Users\\gnane\\AppData\\Roaming\\Python\\Python38\\site-packages\\sklearn\\model_selection\\_split.py:670: UserWarning: The least populated class in y has only 1 members, which is less than n_splits=5.\n",
      "  warnings.warn((\"The least populated class in y has only %d\"\n"
     ]
    }
   ],
   "source": [
    "estimators = [\n",
    "    ('ridge',linear_model.Ridge(alpha = 10)),\n",
    "    ('gb',ensemble.GradientBoostingRegressor(n_estimators = 300))\n",
    "             ]\n",
    "model = ensemble.StackingRegressor(estimators = estimators,final_estimator = linear_model.LinearRegression(),cv = 5)\n",
    "model.fit(x,y)\n",
    "print(model.score(x,y))\n",
    "\n",
    "for train_index,test_index in skf.split(x,y):\n",
    "    x_train,x_test = x[train_index],x[test_index]\n",
    "    y_train,y_test = y[train_index],y[test_index]\n",
    "    print(model.score(x_train,y_train), model.score(x_test,y_test))"
   ]
  },
  {
   "cell_type": "code",
   "execution_count": 38,
   "metadata": {},
   "outputs": [],
   "source": [
    "# estimators = [\n",
    "#     ('ridge',linear_model.Ridge(alpha = 10)),\n",
    "#     ('gb',ensemble.GradientBoostingRegressor(n_estimators = 300))\n",
    "#              ]\n",
    "# model = ensemble.StackingRegressor(estimators = estimators,final_estimator = ensemble.GradientBoostingRegressor(n_estimators = 300),cv = 5)\n",
    "# model.fit(x,y)\n",
    "# model.score(x,y)"
   ]
  },
  {
   "cell_type": "code",
   "execution_count": 39,
   "metadata": {},
   "outputs": [],
   "source": [
    "# estimators = [\n",
    "#     ('ridge',linear_model.Ridge(alpha = 10)),\n",
    "#     ('gb',ensemble.GradientBoostingRegressor(n_estimators = 300))\n",
    "#              ]\n",
    "# model = ensemble.StackingRegressor(estimators = estimators,final_estimator = ensemble.GradientBoostingRegressor(n_estimators = 100),cv = 5)\n",
    "# model.fit(x,y)\n",
    "# model.score(x,y)"
   ]
  },
  {
   "cell_type": "code",
   "execution_count": 40,
   "metadata": {},
   "outputs": [],
   "source": [
    "# estimators = [\n",
    "#     ('tree',ensemble.RandomForestRegressor(ccp_alpha = 100000,n_estimators = 300)),\n",
    "#     ('ridge',linear_model.Ridge(alpha = 10)),\n",
    "#     ('gb',ensemble.GradientBoostingRegressor(n_estimators = 300))\n",
    "#              ]\n",
    "# model = ensemble.StackingRegressor(estimators = estimators,final_estimator = ensemble.GradientBoostingRegressor(n_estimators = 100),cv = 5)\n",
    "# model.fit(x,y)\n",
    "# model.score(x,y)"
   ]
  },
  {
   "cell_type": "code",
   "execution_count": 41,
   "metadata": {},
   "outputs": [],
   "source": [
    "# estimators = [\n",
    "#     ('tree',ensemble.RandomForestRegressor(ccp_alpha = 100000,n_estimators = 300)),\n",
    "#     ('ridge',linear_model.Ridge(alpha = 10)),\n",
    "#     ('gb',ensemble.GradientBoostingRegressor(n_estimators = 300))\n",
    "#              ]\n",
    "# model = ensemble.StackingRegressor(estimators = estimators,final_estimator = ensemble.GradientBoostingRegressor(n_estimators = 200),cv = 5)\n",
    "# model.fit(x,y)\n",
    "# model.score(x,y)"
   ]
  },
  {
   "cell_type": "code",
   "execution_count": 42,
   "metadata": {},
   "outputs": [],
   "source": [
    "# estimators = [\n",
    "#     ('tree',ensemble.RandomForestRegressor(ccp_alpha = 100000,n_estimators = 300)),\n",
    "#     ('ridge',linear_model.Ridge(alpha = 10)),\n",
    "#     ('gb',ensemble.GradientBoostingRegressor(n_estimators = 300))\n",
    "#              ]\n",
    "# model = ensemble.StackingRegressor(estimators = estimators,final_estimator = ensemble.GradientBoostingRegressor(n_estimators = 300),cv = 5)\n",
    "# model.fit(x,y)\n",
    "# model.score(x,y)"
   ]
  },
  {
   "cell_type": "code",
   "execution_count": 43,
   "metadata": {},
   "outputs": [],
   "source": [
    "# estimators = [\n",
    "#     ('tree',ensemble.RandomForestRegressor(ccp_alpha = 0,n_estimators = 100)),\n",
    "#     ('ridge',linear_model.Ridge(alpha = 10)),\n",
    "#     ('gb',ensemble.GradientBoostingRegressor(n_estimators = 300))\n",
    "#              ]\n",
    "# model = ensemble.StackingRegressor(estimators = estimators,final_estimator = ensemble.GradientBoostingRegressor(n_estimators = 300),cv = 5)\n",
    "# model.fit(x,y)\n",
    "# model.score(x,y)"
   ]
  },
  {
   "cell_type": "code",
   "execution_count": 44,
   "metadata": {},
   "outputs": [
    {
     "name": "stdout",
     "output_type": "stream",
     "text": [
      "0.9084730765265879\n",
      "0.9009396820554096 0.9419163594116438\n"
     ]
    },
    {
     "name": "stderr",
     "output_type": "stream",
     "text": [
      "C:\\Users\\gnane\\AppData\\Roaming\\Python\\Python38\\site-packages\\sklearn\\model_selection\\_split.py:670: UserWarning: The least populated class in y has only 1 members, which is less than n_splits=5.\n",
      "  warnings.warn((\"The least populated class in y has only %d\"\n"
     ]
    },
    {
     "name": "stdout",
     "output_type": "stream",
     "text": [
      "0.9077990589983124 0.9114891627306732\n",
      "0.8994394305526595 0.9359529781790523\n",
      "0.8976952007111151 0.9584242786231904\n",
      "0.9370441632442617 0.8055375092855344\n"
     ]
    }
   ],
   "source": [
    "estimators = [\n",
    "    ('tree',ensemble.RandomForestRegressor(ccp_alpha = 0,n_estimators = 100)),\n",
    "    ('ridge',linear_model.Ridge(alpha = 10)),\n",
    "    ('gb',ensemble.GradientBoostingRegressor(n_estimators = 300))\n",
    "             ]\n",
    "model = ensemble.StackingRegressor(estimators = estimators,final_estimator = ensemble.GradientBoostingRegressor(n_estimators = 100),cv = 5)\n",
    "model.fit(x,y)\n",
    "print(model.score(x,y))\n",
    "\n",
    "for train_index,test_index in skf.split(x,y):\n",
    "    x_train,x_test = x[train_index],x[test_index]\n",
    "    y_train,y_test = y[train_index],y[test_index]\n",
    "    print(model.score(x_train,y_train), model.score(x_test,y_test))"
   ]
  },
  {
   "cell_type": "code",
   "execution_count": 45,
   "metadata": {},
   "outputs": [
    {
     "name": "stdout",
     "output_type": "stream",
     "text": [
      "0.9692062182524153\n",
      "0.970220753536924 0.9646921669261959\n"
     ]
    },
    {
     "name": "stderr",
     "output_type": "stream",
     "text": [
      "C:\\Users\\gnane\\AppData\\Roaming\\Python\\Python38\\site-packages\\sklearn\\model_selection\\_split.py:670: UserWarning: The least populated class in y has only 1 members, which is less than n_splits=5.\n",
      "  warnings.warn((\"The least populated class in y has only %d\"\n"
     ]
    },
    {
     "name": "stdout",
     "output_type": "stream",
     "text": [
      "0.9694262735323319 0.9681571434513786\n",
      "0.9674122196709967 0.9745494394056848\n",
      "0.970075666790088 0.965102252752526\n",
      "0.968711428559339 0.97092325374439\n"
     ]
    }
   ],
   "source": [
    "estimators = [\n",
    "    ('tree',ensemble.RandomForestRegressor(ccp_alpha = 0,n_estimators = 100)),\n",
    "    ('ridge',linear_model.Ridge(alpha = 10)),\n",
    "    ('gb',ensemble.GradientBoostingRegressor(n_estimators = 300))\n",
    "             ]\n",
    "model = ensemble.StackingRegressor(estimators = estimators,final_estimator = linear_model.LinearRegression(),cv = 5)\n",
    "model.fit(x,y)\n",
    "print(model.score(x,y))\n",
    "\n",
    "for train_index,test_index in skf.split(x,y):\n",
    "    x_train,x_test = x[train_index],x[test_index]\n",
    "    y_train,y_test = y[train_index],y[test_index]\n",
    "    print(model.score(x_train,y_train), model.score(x_test,y_test))"
   ]
  },
  {
   "cell_type": "code",
   "execution_count": 46,
   "metadata": {},
   "outputs": [
    {
     "name": "stdout",
     "output_type": "stream",
     "text": [
      "0.9696782948480677\n"
     ]
    },
    {
     "name": "stderr",
     "output_type": "stream",
     "text": [
      "C:\\Users\\gnane\\AppData\\Roaming\\Python\\Python38\\site-packages\\sklearn\\model_selection\\_split.py:670: UserWarning: The least populated class in y has only 1 members, which is less than n_splits=5.\n",
      "  warnings.warn((\"The least populated class in y has only %d\"\n"
     ]
    },
    {
     "name": "stdout",
     "output_type": "stream",
     "text": [
      "0.9706733782702643 0.9652507642610789\n",
      "0.9697707250711649 0.9692192029667819\n",
      "0.9679635720012448 0.974777370495784\n",
      "0.9706134302318803 0.9652697296024888\n",
      "0.9691925323267438 0.971363822174337\n"
     ]
    }
   ],
   "source": [
    "estimators = [\n",
    "    ('tree',ensemble.RandomForestRegressor(ccp_alpha = 100000,n_estimators = 300)),\n",
    "    ('ridge',linear_model.Ridge(alpha = 10)),\n",
    "    ('gb',ensemble.GradientBoostingRegressor(n_estimators = 300))\n",
    "             ]\n",
    "model = ensemble.StackingRegressor(estimators = estimators,final_estimator = linear_model.LinearRegression(),cv = 5)\n",
    "model.fit(x,y)\n",
    "print(model.score(x,y))\n",
    "\n",
    "for train_index,test_index in skf.split(x,y):\n",
    "    x_train,x_test = x[train_index],x[test_index]\n",
    "    y_train,y_test = y[train_index],y[test_index]\n",
    "    print(model.score(x_train,y_train), model.score(x_test,y_test))"
   ]
  },
  {
   "cell_type": "code",
   "execution_count": null,
   "metadata": {},
   "outputs": [],
   "source": []
  }
 ],
 "metadata": {
  "kernelspec": {
   "display_name": "Python 3",
   "language": "python",
   "name": "python3"
  },
  "language_info": {
   "codemirror_mode": {
    "name": "ipython",
    "version": 3
   },
   "file_extension": ".py",
   "mimetype": "text/x-python",
   "name": "python",
   "nbconvert_exporter": "python",
   "pygments_lexer": "ipython3",
   "version": "3.8.5"
  }
 },
 "nbformat": 4,
 "nbformat_minor": 2
}
