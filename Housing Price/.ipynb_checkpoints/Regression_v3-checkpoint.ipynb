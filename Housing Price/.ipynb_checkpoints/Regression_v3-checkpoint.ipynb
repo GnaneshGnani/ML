{
 "cells": [
  {
   "cell_type": "code",
   "execution_count": 1,
   "metadata": {},
   "outputs": [],
   "source": [
    "import numpy as np\n",
    "import pandas as pd\n",
    "import matplotlib.pyplot as plt\n",
    "import seaborn as sns\n",
    "from sklearn import linear_model,svm,tree,ensemble,preprocessing,metrics,model_selection,impute\n",
    "import xgboost as xgb"
   ]
  },
  {
   "cell_type": "code",
   "execution_count": 2,
   "metadata": {},
   "outputs": [
    {
     "data": {
      "text/html": [
       "<div>\n",
       "<style scoped>\n",
       "    .dataframe tbody tr th:only-of-type {\n",
       "        vertical-align: middle;\n",
       "    }\n",
       "\n",
       "    .dataframe tbody tr th {\n",
       "        vertical-align: top;\n",
       "    }\n",
       "\n",
       "    .dataframe thead th {\n",
       "        text-align: right;\n",
       "    }\n",
       "</style>\n",
       "<table border=\"1\" class=\"dataframe\">\n",
       "  <thead>\n",
       "    <tr style=\"text-align: right;\">\n",
       "      <th></th>\n",
       "      <th>MSSubClass</th>\n",
       "      <th>MSZoning</th>\n",
       "      <th>LotFrontage</th>\n",
       "      <th>LotArea</th>\n",
       "      <th>Street</th>\n",
       "      <th>Alley</th>\n",
       "      <th>LotShape</th>\n",
       "      <th>LandContour</th>\n",
       "      <th>Utilities</th>\n",
       "      <th>LotConfig</th>\n",
       "      <th>...</th>\n",
       "      <th>PoolArea</th>\n",
       "      <th>PoolQC</th>\n",
       "      <th>Fence</th>\n",
       "      <th>MiscFeature</th>\n",
       "      <th>MiscVal</th>\n",
       "      <th>MoSold</th>\n",
       "      <th>YrSold</th>\n",
       "      <th>SaleType</th>\n",
       "      <th>SaleCondition</th>\n",
       "      <th>SalePrice</th>\n",
       "    </tr>\n",
       "  </thead>\n",
       "  <tbody>\n",
       "    <tr>\n",
       "      <th>0</th>\n",
       "      <td>60</td>\n",
       "      <td>RL</td>\n",
       "      <td>65.0</td>\n",
       "      <td>8450</td>\n",
       "      <td>Pave</td>\n",
       "      <td>NaN</td>\n",
       "      <td>Reg</td>\n",
       "      <td>Lvl</td>\n",
       "      <td>AllPub</td>\n",
       "      <td>Inside</td>\n",
       "      <td>...</td>\n",
       "      <td>0</td>\n",
       "      <td>NaN</td>\n",
       "      <td>NaN</td>\n",
       "      <td>NaN</td>\n",
       "      <td>0</td>\n",
       "      <td>2</td>\n",
       "      <td>2008</td>\n",
       "      <td>WD</td>\n",
       "      <td>Normal</td>\n",
       "      <td>208500</td>\n",
       "    </tr>\n",
       "    <tr>\n",
       "      <th>1</th>\n",
       "      <td>20</td>\n",
       "      <td>RL</td>\n",
       "      <td>80.0</td>\n",
       "      <td>9600</td>\n",
       "      <td>Pave</td>\n",
       "      <td>NaN</td>\n",
       "      <td>Reg</td>\n",
       "      <td>Lvl</td>\n",
       "      <td>AllPub</td>\n",
       "      <td>FR2</td>\n",
       "      <td>...</td>\n",
       "      <td>0</td>\n",
       "      <td>NaN</td>\n",
       "      <td>NaN</td>\n",
       "      <td>NaN</td>\n",
       "      <td>0</td>\n",
       "      <td>5</td>\n",
       "      <td>2007</td>\n",
       "      <td>WD</td>\n",
       "      <td>Normal</td>\n",
       "      <td>181500</td>\n",
       "    </tr>\n",
       "    <tr>\n",
       "      <th>2</th>\n",
       "      <td>60</td>\n",
       "      <td>RL</td>\n",
       "      <td>68.0</td>\n",
       "      <td>11250</td>\n",
       "      <td>Pave</td>\n",
       "      <td>NaN</td>\n",
       "      <td>IR1</td>\n",
       "      <td>Lvl</td>\n",
       "      <td>AllPub</td>\n",
       "      <td>Inside</td>\n",
       "      <td>...</td>\n",
       "      <td>0</td>\n",
       "      <td>NaN</td>\n",
       "      <td>NaN</td>\n",
       "      <td>NaN</td>\n",
       "      <td>0</td>\n",
       "      <td>9</td>\n",
       "      <td>2008</td>\n",
       "      <td>WD</td>\n",
       "      <td>Normal</td>\n",
       "      <td>223500</td>\n",
       "    </tr>\n",
       "    <tr>\n",
       "      <th>3</th>\n",
       "      <td>70</td>\n",
       "      <td>RL</td>\n",
       "      <td>60.0</td>\n",
       "      <td>9550</td>\n",
       "      <td>Pave</td>\n",
       "      <td>NaN</td>\n",
       "      <td>IR1</td>\n",
       "      <td>Lvl</td>\n",
       "      <td>AllPub</td>\n",
       "      <td>Corner</td>\n",
       "      <td>...</td>\n",
       "      <td>0</td>\n",
       "      <td>NaN</td>\n",
       "      <td>NaN</td>\n",
       "      <td>NaN</td>\n",
       "      <td>0</td>\n",
       "      <td>2</td>\n",
       "      <td>2006</td>\n",
       "      <td>WD</td>\n",
       "      <td>Abnorml</td>\n",
       "      <td>140000</td>\n",
       "    </tr>\n",
       "    <tr>\n",
       "      <th>4</th>\n",
       "      <td>60</td>\n",
       "      <td>RL</td>\n",
       "      <td>84.0</td>\n",
       "      <td>14260</td>\n",
       "      <td>Pave</td>\n",
       "      <td>NaN</td>\n",
       "      <td>IR1</td>\n",
       "      <td>Lvl</td>\n",
       "      <td>AllPub</td>\n",
       "      <td>FR2</td>\n",
       "      <td>...</td>\n",
       "      <td>0</td>\n",
       "      <td>NaN</td>\n",
       "      <td>NaN</td>\n",
       "      <td>NaN</td>\n",
       "      <td>0</td>\n",
       "      <td>12</td>\n",
       "      <td>2008</td>\n",
       "      <td>WD</td>\n",
       "      <td>Normal</td>\n",
       "      <td>250000</td>\n",
       "    </tr>\n",
       "    <tr>\n",
       "      <th>...</th>\n",
       "      <td>...</td>\n",
       "      <td>...</td>\n",
       "      <td>...</td>\n",
       "      <td>...</td>\n",
       "      <td>...</td>\n",
       "      <td>...</td>\n",
       "      <td>...</td>\n",
       "      <td>...</td>\n",
       "      <td>...</td>\n",
       "      <td>...</td>\n",
       "      <td>...</td>\n",
       "      <td>...</td>\n",
       "      <td>...</td>\n",
       "      <td>...</td>\n",
       "      <td>...</td>\n",
       "      <td>...</td>\n",
       "      <td>...</td>\n",
       "      <td>...</td>\n",
       "      <td>...</td>\n",
       "      <td>...</td>\n",
       "      <td>...</td>\n",
       "    </tr>\n",
       "    <tr>\n",
       "      <th>2914</th>\n",
       "      <td>160</td>\n",
       "      <td>RM</td>\n",
       "      <td>21.0</td>\n",
       "      <td>1936</td>\n",
       "      <td>Pave</td>\n",
       "      <td>NaN</td>\n",
       "      <td>Reg</td>\n",
       "      <td>Lvl</td>\n",
       "      <td>AllPub</td>\n",
       "      <td>Inside</td>\n",
       "      <td>...</td>\n",
       "      <td>0</td>\n",
       "      <td>NaN</td>\n",
       "      <td>NaN</td>\n",
       "      <td>NaN</td>\n",
       "      <td>0</td>\n",
       "      <td>6</td>\n",
       "      <td>2006</td>\n",
       "      <td>WD</td>\n",
       "      <td>Normal</td>\n",
       "      <td>0</td>\n",
       "    </tr>\n",
       "    <tr>\n",
       "      <th>2915</th>\n",
       "      <td>160</td>\n",
       "      <td>RM</td>\n",
       "      <td>21.0</td>\n",
       "      <td>1894</td>\n",
       "      <td>Pave</td>\n",
       "      <td>NaN</td>\n",
       "      <td>Reg</td>\n",
       "      <td>Lvl</td>\n",
       "      <td>AllPub</td>\n",
       "      <td>Inside</td>\n",
       "      <td>...</td>\n",
       "      <td>0</td>\n",
       "      <td>NaN</td>\n",
       "      <td>NaN</td>\n",
       "      <td>NaN</td>\n",
       "      <td>0</td>\n",
       "      <td>4</td>\n",
       "      <td>2006</td>\n",
       "      <td>WD</td>\n",
       "      <td>Abnorml</td>\n",
       "      <td>0</td>\n",
       "    </tr>\n",
       "    <tr>\n",
       "      <th>2916</th>\n",
       "      <td>20</td>\n",
       "      <td>RL</td>\n",
       "      <td>160.0</td>\n",
       "      <td>20000</td>\n",
       "      <td>Pave</td>\n",
       "      <td>NaN</td>\n",
       "      <td>Reg</td>\n",
       "      <td>Lvl</td>\n",
       "      <td>AllPub</td>\n",
       "      <td>Inside</td>\n",
       "      <td>...</td>\n",
       "      <td>0</td>\n",
       "      <td>NaN</td>\n",
       "      <td>NaN</td>\n",
       "      <td>NaN</td>\n",
       "      <td>0</td>\n",
       "      <td>9</td>\n",
       "      <td>2006</td>\n",
       "      <td>WD</td>\n",
       "      <td>Abnorml</td>\n",
       "      <td>0</td>\n",
       "    </tr>\n",
       "    <tr>\n",
       "      <th>2917</th>\n",
       "      <td>85</td>\n",
       "      <td>RL</td>\n",
       "      <td>62.0</td>\n",
       "      <td>10441</td>\n",
       "      <td>Pave</td>\n",
       "      <td>NaN</td>\n",
       "      <td>Reg</td>\n",
       "      <td>Lvl</td>\n",
       "      <td>AllPub</td>\n",
       "      <td>Inside</td>\n",
       "      <td>...</td>\n",
       "      <td>0</td>\n",
       "      <td>NaN</td>\n",
       "      <td>MnPrv</td>\n",
       "      <td>Shed</td>\n",
       "      <td>700</td>\n",
       "      <td>7</td>\n",
       "      <td>2006</td>\n",
       "      <td>WD</td>\n",
       "      <td>Normal</td>\n",
       "      <td>0</td>\n",
       "    </tr>\n",
       "    <tr>\n",
       "      <th>2918</th>\n",
       "      <td>60</td>\n",
       "      <td>RL</td>\n",
       "      <td>74.0</td>\n",
       "      <td>9627</td>\n",
       "      <td>Pave</td>\n",
       "      <td>NaN</td>\n",
       "      <td>Reg</td>\n",
       "      <td>Lvl</td>\n",
       "      <td>AllPub</td>\n",
       "      <td>Inside</td>\n",
       "      <td>...</td>\n",
       "      <td>0</td>\n",
       "      <td>NaN</td>\n",
       "      <td>NaN</td>\n",
       "      <td>NaN</td>\n",
       "      <td>0</td>\n",
       "      <td>11</td>\n",
       "      <td>2006</td>\n",
       "      <td>WD</td>\n",
       "      <td>Normal</td>\n",
       "      <td>0</td>\n",
       "    </tr>\n",
       "  </tbody>\n",
       "</table>\n",
       "<p>2919 rows × 80 columns</p>\n",
       "</div>"
      ],
      "text/plain": [
       "      MSSubClass MSZoning  LotFrontage  LotArea Street Alley LotShape  \\\n",
       "0             60       RL         65.0     8450   Pave   NaN      Reg   \n",
       "1             20       RL         80.0     9600   Pave   NaN      Reg   \n",
       "2             60       RL         68.0    11250   Pave   NaN      IR1   \n",
       "3             70       RL         60.0     9550   Pave   NaN      IR1   \n",
       "4             60       RL         84.0    14260   Pave   NaN      IR1   \n",
       "...          ...      ...          ...      ...    ...   ...      ...   \n",
       "2914         160       RM         21.0     1936   Pave   NaN      Reg   \n",
       "2915         160       RM         21.0     1894   Pave   NaN      Reg   \n",
       "2916          20       RL        160.0    20000   Pave   NaN      Reg   \n",
       "2917          85       RL         62.0    10441   Pave   NaN      Reg   \n",
       "2918          60       RL         74.0     9627   Pave   NaN      Reg   \n",
       "\n",
       "     LandContour Utilities LotConfig  ... PoolArea PoolQC  Fence MiscFeature  \\\n",
       "0            Lvl    AllPub    Inside  ...        0    NaN    NaN         NaN   \n",
       "1            Lvl    AllPub       FR2  ...        0    NaN    NaN         NaN   \n",
       "2            Lvl    AllPub    Inside  ...        0    NaN    NaN         NaN   \n",
       "3            Lvl    AllPub    Corner  ...        0    NaN    NaN         NaN   \n",
       "4            Lvl    AllPub       FR2  ...        0    NaN    NaN         NaN   \n",
       "...          ...       ...       ...  ...      ...    ...    ...         ...   \n",
       "2914         Lvl    AllPub    Inside  ...        0    NaN    NaN         NaN   \n",
       "2915         Lvl    AllPub    Inside  ...        0    NaN    NaN         NaN   \n",
       "2916         Lvl    AllPub    Inside  ...        0    NaN    NaN         NaN   \n",
       "2917         Lvl    AllPub    Inside  ...        0    NaN  MnPrv        Shed   \n",
       "2918         Lvl    AllPub    Inside  ...        0    NaN    NaN         NaN   \n",
       "\n",
       "     MiscVal MoSold  YrSold  SaleType  SaleCondition  SalePrice  \n",
       "0          0      2    2008        WD         Normal     208500  \n",
       "1          0      5    2007        WD         Normal     181500  \n",
       "2          0      9    2008        WD         Normal     223500  \n",
       "3          0      2    2006        WD        Abnorml     140000  \n",
       "4          0     12    2008        WD         Normal     250000  \n",
       "...      ...    ...     ...       ...            ...        ...  \n",
       "2914       0      6    2006        WD         Normal          0  \n",
       "2915       0      4    2006        WD        Abnorml          0  \n",
       "2916       0      9    2006        WD        Abnorml          0  \n",
       "2917     700      7    2006        WD         Normal          0  \n",
       "2918       0     11    2006        WD         Normal          0  \n",
       "\n",
       "[2919 rows x 80 columns]"
      ]
     },
     "execution_count": 2,
     "metadata": {},
     "output_type": "execute_result"
    }
   ],
   "source": [
    "train_data = pd.read_csv('train.csv')\n",
    "test_data = pd.read_csv('test.csv')\n",
    "test_data['SalePrice'] = 0\n",
    "data = pd.concat([train_data,test_data],axis = 0)\n",
    "data = data.reset_index().drop(['index','Id'],axis = 1)\n",
    "data"
   ]
  },
  {
   "cell_type": "code",
   "execution_count": 3,
   "metadata": {},
   "outputs": [
    {
     "data": {
      "text/plain": [
       "PoolQC          2909\n",
       "MiscFeature     2814\n",
       "Alley           2721\n",
       "Fence           2348\n",
       "FireplaceQu     1420\n",
       "LotFrontage      486\n",
       "GarageFinish     159\n",
       "GarageQual       159\n",
       "GarageCond       159\n",
       "GarageYrBlt      159\n",
       "GarageType       157\n",
       "BsmtCond          82\n",
       "BsmtExposure      82\n",
       "BsmtQual          81\n",
       "BsmtFinType2      80\n",
       "BsmtFinType1      79\n",
       "MasVnrType        24\n",
       "MasVnrArea        23\n",
       "MSZoning           4\n",
       "Functional         2\n",
       "Utilities          2\n",
       "BsmtHalfBath       2\n",
       "BsmtFullBath       2\n",
       "Exterior2nd        1\n",
       "Exterior1st        1\n",
       "BsmtUnfSF          1\n",
       "TotalBsmtSF        1\n",
       "GarageArea         1\n",
       "KitchenQual        1\n",
       "BsmtFinSF2         1\n",
       "GarageCars         1\n",
       "BsmtFinSF1         1\n",
       "SaleType           1\n",
       "Electrical         1\n",
       "dtype: int64"
      ]
     },
     "execution_count": 3,
     "metadata": {},
     "output_type": "execute_result"
    }
   ],
   "source": [
    "missing_values = data.isna().sum().sort_values(ascending = False)\n",
    "missing_list = list(missing_values[missing_values > 0].index)\n",
    "missing_values[missing_values > 0]"
   ]
  },
  {
   "cell_type": "code",
   "execution_count": 4,
   "metadata": {},
   "outputs": [],
   "source": [
    "data['PoolQC'] = data['PoolQC'].fillna('None')\n",
    "data['MiscFeature'] = data['MiscFeature'].fillna('None')\n",
    "data['Alley'] = data['Alley'].fillna('None')\n",
    "data['Fence'] = data['Fence'].fillna('None')\n",
    "data['FireplaceQu'] = data['FireplaceQu'].fillna('None')\n",
    "data['GarageCond'] = data['GarageCond'].fillna('None')\n",
    "data['GarageFinish'] = data['GarageFinish'].fillna('None')\n",
    "data['GarageQual'] = data['GarageQual'].fillna('None')\n",
    "data['GarageType'] = data['GarageType'].fillna('None')\n",
    "data['BsmtExposure'] = data['BsmtExposure'].fillna('None')\n",
    "data['BsmtCond'] = data['BsmtCond'].fillna('None')\n",
    "data['BsmtQual'] = data['BsmtQual'].fillna('None')\n",
    "data['BsmtFinType1'] = data['BsmtFinType1'].fillna('None')\n",
    "data['BsmtFinType2'] = data['BsmtFinType2'].fillna('None')\n",
    "data['MasVnrType'] = data['MasVnrType'].fillna('None')\n",
    "data['MasVnrArea'] = data['MasVnrArea'].fillna(0)\n",
    "\n",
    "for col in ('GarageYrBlt', 'GarageArea', 'GarageCars'):\n",
    "    data[col] = data[col].fillna(0)\n",
    "for col in ('BsmtFinSF1', 'BsmtFinSF2', 'BsmtUnfSF','TotalBsmtSF', 'BsmtFullBath', 'BsmtHalfBath'):\n",
    "    data[col] = data[col].fillna(0)\n",
    "for col in ('MSZoning','Functional','Utilities','Exterior1st','Exterior2nd','SaleType','Electrical','KitchenQual'):\n",
    "    data[col] = data[col].fillna(data[col].mode()[0])\n",
    "\n",
    "data = data.drop(columns = ['LotFrontage'])"
   ]
  },
  {
   "cell_type": "code",
   "execution_count": 5,
   "metadata": {},
   "outputs": [
    {
     "data": {
      "text/plain": [
       "MSSubClass     0\n",
       "GarageType     0\n",
       "FireplaceQu    0\n",
       "Fireplaces     0\n",
       "Functional     0\n",
       "              ..\n",
       "MasVnrType     0\n",
       "Exterior2nd    0\n",
       "Exterior1st    0\n",
       "BsmtQual       0\n",
       "SalePrice      0\n",
       "Length: 79, dtype: int64"
      ]
     },
     "execution_count": 5,
     "metadata": {},
     "output_type": "execute_result"
    }
   ],
   "source": [
    "data.isna().sum().sort_values() "
   ]
  },
  {
   "cell_type": "code",
   "execution_count": 54,
   "metadata": {},
   "outputs": [
    {
     "data": {
      "text/plain": [
       "((1460, 301),\n",
       " (1460,),\n",
       " StratifiedKFold(n_splits=5, random_state=0, shuffle=True))"
      ]
     },
     "execution_count": 54,
     "metadata": {},
     "output_type": "execute_result"
    }
   ],
   "source": [
    "new_data = pd.get_dummies(data)\n",
    "x = new_data.drop('SalePrice',axis = 1).values[:train_data.shape[0],:]\n",
    "y = new_data['SalePrice'].values[:train_data.shape[0]]\n",
    "\n",
    "skf = model_selection.StratifiedKFold(shuffle = True,random_state = 0)\n",
    "x.shape,y.shape,skf"
   ]
  },
  {
   "cell_type": "code",
   "execution_count": 55,
   "metadata": {},
   "outputs": [
    {
     "name": "stdout",
     "output_type": "stream",
     "text": [
      "{'fit_time': array([0.10674644, 0.10023642, 0.10023451, 0.10023451, 0.10023475]), 'score_time': array([0., 0., 0., 0., 0.]), 'test_score': array([0.82410897, 0.81961147, 0.80184095, 0.88741286, 0.65833672])}\n",
      "0.9352936707520236 0.923780832596351\n",
      "0.931704004403273 0.9399327001931688\n",
      "0.9292265851017737 0.9449687500793655\n",
      "0.9331329236460597 0.9332749294438654\n",
      "0.9363493239348843 0.9216518674176295\n"
     ]
    },
    {
     "name": "stderr",
     "output_type": "stream",
     "text": [
      "C:\\Users\\gnane\\AppData\\Roaming\\Python\\Python38\\site-packages\\sklearn\\model_selection\\_split.py:670: UserWarning: The least populated class in y has only 1 members, which is less than n_splits=5.\n",
      "  warnings.warn((\"The least populated class in y has only %d\"\n"
     ]
    }
   ],
   "source": [
    "LR_model = model_selection.cross_validate(linear_model.LinearRegression(),x,y,cv = 5)\n",
    "print(LR_model)\n",
    "\n",
    "model = linear_model.LinearRegression()\n",
    "model.fit(x,y)\n",
    "for train_index,test_index in skf.split(x,y):\n",
    "    x_train,x_test = x[train_index],x[test_index]\n",
    "    y_train,y_test = y[train_index],y[test_index]\n",
    "    print(model.score(x_train,y_train), model.score(x_test,y_test))"
   ]
  },
  {
   "cell_type": "code",
   "execution_count": 56,
   "metadata": {},
   "outputs": [
    {
     "data": {
      "text/plain": [
       "10.0"
      ]
     },
     "execution_count": 56,
     "metadata": {},
     "output_type": "execute_result"
    }
   ],
   "source": [
    "Ridge_model = linear_model.RidgeCV(cv = 5)\n",
    "Ridge_model.fit(x,y)\n",
    "Ridge_model.alpha_"
   ]
  },
  {
   "cell_type": "code",
   "execution_count": 57,
   "metadata": {},
   "outputs": [
    {
     "name": "stdout",
     "output_type": "stream",
     "text": [
      "{'fit_time': array([0.        , 0.01562738, 0.01562071, 0.01562238, 0.01562166]), 'score_time': array([0., 0., 0., 0., 0.]), 'test_score': array([0.90157467, 0.83254012, 0.87813686, 0.87968302, 0.70958689])}\n",
      "0.9052396209303593 0.8807044769561214\n",
      "0.9114373199683077 0.8512006844919211\n",
      "0.8908625691249126 0.9307758953578293\n",
      "0.8975722921642435 0.9152552894930733\n",
      "0.8975846728086448 0.9118663104424184\n"
     ]
    },
    {
     "name": "stderr",
     "output_type": "stream",
     "text": [
      "C:\\Users\\gnane\\AppData\\Roaming\\Python\\Python38\\site-packages\\sklearn\\model_selection\\_split.py:670: UserWarning: The least populated class in y has only 1 members, which is less than n_splits=5.\n",
      "  warnings.warn((\"The least populated class in y has only %d\"\n"
     ]
    }
   ],
   "source": [
    "Ridge_model = model_selection.cross_validate(linear_model.Ridge(alpha = 10),x,y,cv = 5)\n",
    "print(Ridge_model)\n",
    "\n",
    "model = linear_model.Ridge(alpha = 10)\n",
    "model.fit(x,y)\n",
    "for train_index,test_index in skf.split(x,y):\n",
    "    x_train,x_test = x[train_index],x[test_index]\n",
    "    y_train,y_test = y[train_index],y[test_index]\n",
    "    print(model.score(x_train,y_train), model.score(x_test,y_test))"
   ]
  },
  {
   "cell_type": "code",
   "execution_count": 10,
   "metadata": {},
   "outputs": [
    {
     "data": {
      "text/plain": [
       "{'mean_fit_time': array([2.34823389, 7.01061306, 2.4063271 , 7.21614695, 2.43252816,\n",
       "        7.28769169]),\n",
       " 'std_fit_time': array([0.01688299, 0.02596986, 0.00343173, 0.02221271, 0.00825937,\n",
       "        0.01992081]),\n",
       " 'mean_score_time': array([0.01014533, 0.02973895, 0.00983062, 0.02872419, 0.00922689,\n",
       "        0.0248569 ]),\n",
       " 'std_score_time': array([0.0001791 , 0.00170325, 0.00068019, 0.00231007, 0.00105841,\n",
       "        0.00347276]),\n",
       " 'param_ccp_alpha': masked_array(data=[0, 0, 10000, 10000, 100000, 100000],\n",
       "              mask=[False, False, False, False, False, False],\n",
       "        fill_value='?',\n",
       "             dtype=object),\n",
       " 'param_n_estimators': masked_array(data=[100, 300, 100, 300, 100, 300],\n",
       "              mask=[False, False, False, False, False, False],\n",
       "        fill_value='?',\n",
       "             dtype=object),\n",
       " 'params': [{'ccp_alpha': 0, 'n_estimators': 100},\n",
       "  {'ccp_alpha': 0, 'n_estimators': 300},\n",
       "  {'ccp_alpha': 10000, 'n_estimators': 100},\n",
       "  {'ccp_alpha': 10000, 'n_estimators': 300},\n",
       "  {'ccp_alpha': 100000, 'n_estimators': 100},\n",
       "  {'ccp_alpha': 100000, 'n_estimators': 300}],\n",
       " 'split0_test_score': array([0.87350416, 0.86924811, 0.87273301, 0.86842232, 0.86645722,\n",
       "        0.87284602]),\n",
       " 'split1_test_score': array([0.83496494, 0.8432779 , 0.83465333, 0.84517421, 0.83834851,\n",
       "        0.84765902]),\n",
       " 'split2_test_score': array([0.8689088 , 0.8677197 , 0.874213  , 0.87302803, 0.8698663 ,\n",
       "        0.87369181]),\n",
       " 'split3_test_score': array([0.87778829, 0.87407851, 0.88633956, 0.88396285, 0.88749882,\n",
       "        0.88147423]),\n",
       " 'split4_test_score': array([0.8167142 , 0.81506121, 0.80826719, 0.81964834, 0.81790903,\n",
       "        0.81526462]),\n",
       " 'mean_test_score': array([0.85437608, 0.85387709, 0.85524122, 0.85804715, 0.85601598,\n",
       "        0.85818714]),\n",
       " 'std_test_score': array([0.02416785, 0.02215852, 0.02920075, 0.02299511, 0.02472367,\n",
       "        0.02429301]),\n",
       " 'rank_test_score': array([5, 6, 4, 2, 3, 1])}"
      ]
     },
     "execution_count": 10,
     "metadata": {},
     "output_type": "execute_result"
    }
   ],
   "source": [
    "params = {\n",
    "    'n_estimators' : [100,300],\n",
    "    'ccp_alpha' : [0,10000,100000]\n",
    "}\n",
    "ensemble.RandomForestRegressor()\n",
    "Forest_model = model_selection.GridSearchCV(ensemble.RandomForestRegressor(),param_grid = params,cv = 5)\n",
    "Forest_model.fit(x,y)\n",
    "Forest_model.cv_results_"
   ]
  },
  {
   "cell_type": "code",
   "execution_count": 11,
   "metadata": {},
   "outputs": [
    {
     "data": {
      "text/plain": [
       "{'fit_time': array([2.3458643 , 2.33353209, 2.32730937, 2.35050917, 2.327425  ]),\n",
       " 'score_time': array([0.01037025, 0.01003432, 0.01270914, 0.01221347, 0.01013184]),\n",
       " 'test_score': array([0.86941627, 0.84594135, 0.8693352 , 0.88672983, 0.80748217])}"
      ]
     },
     "execution_count": 11,
     "metadata": {},
     "output_type": "execute_result"
    }
   ],
   "source": [
    "Forest_model = model_selection.cross_validate(ensemble.RandomForestRegressor(n_estimators = 100,criterion = 'mse',ccp_alpha = 0),x,y,cv = 5)\n",
    "Forest_model"
   ]
  },
  {
   "cell_type": "code",
   "execution_count": 12,
   "metadata": {},
   "outputs": [
    {
     "data": {
      "text/plain": [
       "{'mean_fit_time': array([1.87976999, 2.75615516]),\n",
       " 'std_fit_time': array([0.01029587, 0.0075655 ]),\n",
       " 'mean_score_time': array([0.00192485, 0.00084534]),\n",
       " 'std_score_time': array([0.00293042, 0.00103534]),\n",
       " 'param_max_depth': masked_array(data=[2, 3],\n",
       "              mask=[False, False],\n",
       "        fill_value='?',\n",
       "             dtype=object),\n",
       " 'param_n_estimators': masked_array(data=[300, 300],\n",
       "              mask=[False, False],\n",
       "        fill_value='?',\n",
       "             dtype=object),\n",
       " 'params': [{'max_depth': 2, 'n_estimators': 300},\n",
       "  {'max_depth': 3, 'n_estimators': 300}],\n",
       " 'split0_test_score': array([0.90242351, 0.90797445]),\n",
       " 'split1_test_score': array([0.8429844 , 0.83842959]),\n",
       " 'split2_test_score': array([0.90471189, 0.90434121]),\n",
       " 'split3_test_score': array([0.89923262, 0.90629336]),\n",
       " 'split4_test_score': array([0.92084947, 0.9001157 ]),\n",
       " 'mean_test_score': array([0.89404038, 0.89143086]),\n",
       " 'std_test_score': array([0.02659533, 0.02663014]),\n",
       " 'rank_test_score': array([1, 2])}"
      ]
     },
     "execution_count": 12,
     "metadata": {},
     "output_type": "execute_result"
    }
   ],
   "source": [
    "params = {\n",
    "    'n_estimators' : [300],\n",
    "    'max_depth' : [2,3]\n",
    "}\n",
    "ensemble.GradientBoostingRegressor()\n",
    "GB_model = model_selection.GridSearchCV(ensemble.GradientBoostingRegressor(),param_grid = params,cv = 5)\n",
    "GB_model.fit(x,y)\n",
    "GB_model.cv_results_"
   ]
  },
  {
   "cell_type": "code",
   "execution_count": 13,
   "metadata": {},
   "outputs": [],
   "source": [
    "# xgb.XGBRegressor()"
   ]
  },
  {
   "cell_type": "code",
   "execution_count": 14,
   "metadata": {},
   "outputs": [],
   "source": [
    "# estimators = [\n",
    "#     ('ridge',linear_model.Ridge(alpha = 10)),\n",
    "#     ('gb',ensemble.GradientBoostingRegressor(n_estimators = 300))\n",
    "#              ]\n",
    "# model = ensemble.StackingRegressor(estimators = estimators,final_estimator = ensemble.GradientBoostingRegressor(n_estimators = 200),cv = 5)\n",
    "# model.fit(x,y)\n",
    "# model.score(x,y)"
   ]
  },
  {
   "cell_type": "code",
   "execution_count": 50,
   "metadata": {},
   "outputs": [
    {
     "name": "stdout",
     "output_type": "stream",
     "text": [
      "0.9823683064985176\n",
      "0.9828206095896197 0.9803549168602983\n",
      "0.982803758860265 0.9803383073648932\n",
      "0.9812935008829023 0.9855768789230211\n",
      "0.9826658119590678 0.9809501940822952\n",
      "0.982150793377979"
     ]
    },
    {
     "name": "stderr",
     "output_type": "stream",
     "text": [
      "C:\\Users\\gnane\\AppData\\Roaming\\Python\\Python38\\site-packages\\sklearn\\model_selection\\_split.py:670: UserWarning: The least populated class in y has only 1 members, which is less than n_splits=5.\n",
      "  warnings.warn((\"The least populated class in y has only %d\"\n"
     ]
    },
    {
     "name": "stdout",
     "output_type": "stream",
     "text": [
      " 0.98311483378764\n",
      "{'fit_time': array([ 31.59531498,  31.92284131,  85.1300602 , 122.0191083 ,\n",
      "       127.39672899]), 'score_time': array([0.00497365, 0.00551295, 0.01958752, 0.01857924, 0.01802897]), 'test_score': array([0.90800761, 0.83685125, 0.9077824 , 0.91042857, 0.84791958])}\n"
     ]
    }
   ],
   "source": [
    "estimators = [\n",
    "    ('ridge',linear_model.Ridge(alpha = 10)),\n",
    "    ('gb',ensemble.GradientBoostingRegressor(n_estimators = 300))\n",
    "             ]\n",
    "model = ensemble.StackingRegressor(estimators = estimators,final_estimator = linear_model.LinearRegression(),cv = 5)\n",
    "model.fit(x,y)\n",
    "print(model.score(x,y))\n",
    "\n",
    "for train_index,test_index in skf.split(x,y):\n",
    "    x_train,x_test = x[train_index],x[test_index]\n",
    "    y_train,y_test = y[train_index],y[test_index]\n",
    "    print(model.score(x_train,y_train), model.score(x_test,y_test))\n",
    "\n",
    "model_1 = model_selection.cross_validate(model,x,y,cv = 5)\n",
    "print(model_1)"
   ]
  },
  {
   "cell_type": "code",
   "execution_count": 16,
   "metadata": {},
   "outputs": [],
   "source": [
    "# estimators = [\n",
    "#     ('ridge',linear_model.Ridge(alpha = 10)),\n",
    "#     ('gb',ensemble.GradientBoostingRegressor(n_estimators = 300))\n",
    "#              ]\n",
    "# model = ensemble.StackingRegressor(estimators = estimators,final_estimator = ensemble.GradientBoostingRegressor(n_estimators = 300),cv = 5)\n",
    "# model.fit(x,y)\n",
    "# model.score(x,y)"
   ]
  },
  {
   "cell_type": "code",
   "execution_count": 17,
   "metadata": {},
   "outputs": [],
   "source": [
    "# estimators = [\n",
    "#     ('ridge',linear_model.Ridge(alpha = 10)),\n",
    "#     ('gb',ensemble.GradientBoostingRegressor(n_estimators = 300))\n",
    "#              ]\n",
    "# model = ensemble.StackingRegressor(estimators = estimators,final_estimator = ensemble.GradientBoostingRegressor(n_estimators = 100),cv = 5)\n",
    "# model.fit(x,y)\n",
    "# model.score(x,y)"
   ]
  },
  {
   "cell_type": "code",
   "execution_count": 18,
   "metadata": {},
   "outputs": [],
   "source": [
    "# estimators = [\n",
    "#     ('ridge',linear_model.Ridge(alpha = 10)),\n",
    "#     ('gb',ensemble.GradientBoostingRegressor(n_estimators = 300))\n",
    "#              ]\n",
    "# model = ensemble.StackingRegressor(estimators = estimators,final_estimator = ensemble.GradientBoostingRegressor(n_estimators = 300),cv = 5)\n",
    "# model.fit(x,y)\n",
    "# model.score(x,y)"
   ]
  },
  {
   "cell_type": "code",
   "execution_count": 19,
   "metadata": {},
   "outputs": [],
   "source": [
    "# estimators = [\n",
    "#     ('tree',ensemble.RandomForestRegressor(ccp_alpha = 100000,n_estimators = 300)),\n",
    "#     ('ridge',linear_model.Ridge(alpha = 10)),\n",
    "#     ('gb',ensemble.GradientBoostingRegressor(n_estimators = 300))\n",
    "#              ]\n",
    "# model = ensemble.StackingRegressor(estimators = estimators,final_estimator = ensemble.GradientBoostingRegressor(n_estimators = 300),cv = 5)\n",
    "# model.fit(x,y)\n",
    "# model.score(x,y)"
   ]
  },
  {
   "cell_type": "code",
   "execution_count": 20,
   "metadata": {},
   "outputs": [],
   "source": [
    "# estimators = [\n",
    "#     ('tree',ensemble.RandomForestRegressor(ccp_alpha = 100000,n_estimators = 300)),\n",
    "#     ('ridge',linear_model.Ridge(alpha = 10)),\n",
    "#     ('gb',ensemble.GradientBoostingRegressor(n_estimators = 300))\n",
    "#              ]\n",
    "# model = ensemble.StackingRegressor(estimators = estimators,final_estimator = ensemble.GradientBoostingRegressor(n_estimators = 200),cv = 5)\n",
    "# model.fit(x,y)\n",
    "# model.score(x,y)"
   ]
  },
  {
   "cell_type": "code",
   "execution_count": 21,
   "metadata": {},
   "outputs": [],
   "source": [
    "# estimators = [\n",
    "#     ('tree',ensemble.RandomForestRegressor(ccp_alpha = 100000,n_estimators = 300)),\n",
    "#     ('ridge',linear_model.Ridge(alpha = 10)),\n",
    "#     ('gb',ensemble.GradientBoostingRegressor(n_estimators = 300))\n",
    "#              ]\n",
    "# model = ensemble.StackingRegressor(estimators = estimators,final_estimator = ensemble.GradientBoostingRegressor(n_estimators = 100),cv = 5)\n",
    "# model.fit(x,y)\n",
    "# model.score(x,y)"
   ]
  },
  {
   "cell_type": "code",
   "execution_count": 22,
   "metadata": {},
   "outputs": [
    {
     "data": {
      "text/plain": [
       "{'fit_time': array([52.04473948, 50.12011456, 49.49559188, 49.48536968, 49.39005947]),\n",
       " 'score_time': array([0.02975368, 0.03046489, 0.02841449, 0.02992582, 0.03516579]),\n",
       " 'test_score': array([0.90819129, 0.84278256, 0.90478727, 0.91767487, 0.83810323])}"
      ]
     },
     "execution_count": 22,
     "metadata": {},
     "output_type": "execute_result"
    }
   ],
   "source": [
    "estimators = [\n",
    "    ('tree',ensemble.RandomForestRegressor(ccp_alpha = 100000,n_estimators = 300)),\n",
    "    ('ridge',linear_model.Ridge(alpha = 10)),\n",
    "    ('gb',ensemble.GradientBoostingRegressor(n_estimators = 300))\n",
    "             ]\n",
    "model = ensemble.StackingRegressor(estimators = estimators,final_estimator = linear_model.LinearRegression(),cv = 5)\n",
    "model.fit(x,y)\n",
    "print(model.score(x,y))\n",
    "\n",
    "model_1 = model_selection.cross_validate(model,x,y,cv = 5)\n",
    "print(model_1)"
   ]
  },
  {
   "cell_type": "code",
   "execution_count": 23,
   "metadata": {},
   "outputs": [],
   "source": [
    "# estimators = [\n",
    "#     ('tree',ensemble.RandomForestRegressor(ccp_alpha = 100000,n_estimators = 300)),\n",
    "#     ('ridge',linear_model.Ridge(alpha = 10)),\n",
    "#     ('gb',ensemble.GradientBoostingRegressor(n_estimators = 300))\n",
    "#              ]\n",
    "# model = ensemble.StackingRegressor(estimators = estimators,final_estimator = tree.DecisionTreeRegressor(),cv = 5)\n",
    "# model.fit(x,y)\n",
    "# model.score(x,y)"
   ]
  },
  {
   "cell_type": "code",
   "execution_count": 24,
   "metadata": {},
   "outputs": [
    {
     "name": "stdout",
     "output_type": "stream",
     "text": [
      "0.9817127409305003\n",
      "{'fit_time': array([49.49899101, 49.43433952, 49.5524199 , 49.55692792, 49.27032685]), 'score_time': array([0.03098869, 0.02455449, 0.02297211, 0.03053808, 0.02999806]), 'test_score': array([0.90866396, 0.83751583, 0.9107623 , 0.90874621, 0.83583303])}\n"
     ]
    }
   ],
   "source": [
    "estimators = [\n",
    "    ('tree',ensemble.RandomForestRegressor(ccp_alpha = 100000,n_estimators = 300)),\n",
    "    ('ridge',linear_model.Ridge(alpha = 10)),\n",
    "    ('gb',ensemble.GradientBoostingRegressor(n_estimators = 300))\n",
    "             ]\n",
    "model = ensemble.StackingRegressor(estimators = estimators,final_estimator = linear_model.LinearRegression(),cv = 5)\n",
    "model.fit(x,y)\n",
    "print(model.score(x,y))\n",
    "CV = model_selection.cross_validate(model,x,y,cv = 5)\n",
    "print(CV)\n"
   ]
  },
  {
   "cell_type": "code",
   "execution_count": 25,
   "metadata": {},
   "outputs": [
    {
     "data": {
      "text/plain": [
       "((1460, 153), (1460,))"
      ]
     },
     "execution_count": 25,
     "metadata": {},
     "output_type": "execute_result"
    }
   ],
   "source": [
    "new_data = data.drop(columns = ['Street','Alley','Utilities','LandSlope','Condition2',\n",
    "                            'RoofMatl','ExterCond','Heating','CentralAir','Electrical',\n",
    "                            'LowQualFinSF','BsmtFullBath','BsmtHalfBath','HalfBath',\n",
    "                            'BedroomAbvGr','KitchenAbvGr','Functional','FireplaceQu',\n",
    "                            'GarageType','GarageYrBlt','GarageFinish','GarageQual',\n",
    "                            'GarageCond','PavedDrive','WoodDeckSF','OpenPorchSF',\n",
    "                            'EnclosedPorch','3SsnPorch','ScreenPorch','PoolArea','PoolQC',\n",
    "                            'Fence','MiscFeature','MiscVal','MoSold','SaleType','SaleCondition',\n",
    "                            'MSSubClass','LotArea','GrLivArea','TotRmsAbvGrd',\n",
    "                            'BsmtFinSF1','BsmtFinSF2','BsmtUnfSF','GarageArea','YearRemodAdd',\n",
    "                            'OverallCond'])\n",
    "\n",
    "def function(x):\n",
    "    if x == 'None':\n",
    "        return 0\n",
    "    elif x == 'Po':\n",
    "        return 1\n",
    "    elif x == 'Fa':\n",
    "        return 2\n",
    "    elif x == 'TA':\n",
    "        return 3\n",
    "    elif x == 'Gd':\n",
    "        return 4\n",
    "    elif x == 'Ex':\n",
    "        return 5\n",
    "    \n",
    "new_data['TotalFlrSF'] = new_data['2ndFlrSF'] + new_data['1stFlrSF']\n",
    "new_data['ExterQual_rank'] = new_data['ExterQual'].apply(function)\n",
    "new_data['BsmtQual_rank'] = new_data['BsmtQual'].apply(function)\n",
    "new_data['KitchenQual_rank'] = new_data['KitchenQual'].apply(function)\n",
    "\n",
    "new_data = new_data.drop(columns = ['1stFlrSF','2ndFlrSF','KitchenQual','BsmtQual','ExterQual'])\n",
    "new_data = pd.get_dummies(new_data)\n",
    "\n",
    "x = new_data.drop('SalePrice',axis = 1).values[:train_data.shape[0],:]\n",
    "y = new_data['SalePrice'].values[:train_data.shape[0]]\n",
    "x.shape,y.shape"
   ]
  },
  {
   "cell_type": "code",
   "execution_count": 26,
   "metadata": {},
   "outputs": [
    {
     "data": {
      "text/plain": [
       "{'fit_time': array([0.08032656, 0.04701734, 0.04045367, 0.04969835, 0.0422051 ]),\n",
       " 'score_time': array([0., 0., 0., 0., 0.]),\n",
       " 'test_score': array([0.86850548, 0.81147249, 0.83362757, 0.82721198, 0.73896047])}"
      ]
     },
     "execution_count": 26,
     "metadata": {},
     "output_type": "execute_result"
    }
   ],
   "source": [
    "LR_model = model_selection.cross_validate(linear_model.LinearRegression(),x,y,cv = 5)\n",
    "LR_model"
   ]
  },
  {
   "cell_type": "code",
   "execution_count": 27,
   "metadata": {},
   "outputs": [
    {
     "data": {
      "text/plain": [
       "29660.447248571938"
      ]
     },
     "execution_count": 27,
     "metadata": {},
     "output_type": "execute_result"
    }
   ],
   "source": [
    "Lasso_model = linear_model.LassoCV(cv = 5)\n",
    "Lasso_model.fit(x,y)\n",
    "Lasso_model.alpha_"
   ]
  },
  {
   "cell_type": "code",
   "execution_count": 28,
   "metadata": {},
   "outputs": [
    {
     "data": {
      "text/plain": [
       "10.0"
      ]
     },
     "execution_count": 28,
     "metadata": {},
     "output_type": "execute_result"
    }
   ],
   "source": [
    "Ridge_model = linear_model.RidgeCV(cv = 5)\n",
    "Ridge_model.fit(x,y)\n",
    "Ridge_model.alpha_"
   ]
  },
  {
   "cell_type": "code",
   "execution_count": 29,
   "metadata": {},
   "outputs": [
    {
     "data": {
      "text/plain": [
       "({'fit_time': array([0.06796455, 0.04976225, 0.04990315, 0.06006742, 0.05037713]),\n",
       "  'score_time': array([0.00995302, 0.        , 0.        , 0.        , 0.        ]),\n",
       "  'test_score': array([0.87089518, 0.81598122, 0.84102397, 0.83253985, 0.74393762])},\n",
       " 0.8208755693469074)"
      ]
     },
     "execution_count": 29,
     "metadata": {},
     "output_type": "execute_result"
    }
   ],
   "source": [
    "Lasso_model = model_selection.cross_validate(linear_model.Lasso(alpha = 10),x,y,cv = 5)\n",
    "Lasso_model,Lasso_model['test_score'].mean()"
   ]
  },
  {
   "cell_type": "code",
   "execution_count": 30,
   "metadata": {},
   "outputs": [
    {
     "data": {
      "text/plain": [
       "{'fit_time': array([0.0100565 , 0.00956011, 0.00994349, 0.        , 0.00207257]),\n",
       " 'score_time': array([0., 0., 0., 0., 0.]),\n",
       " 'test_score': array([0.87783017, 0.82309797, 0.85238789, 0.84796611, 0.7480761 ])}"
      ]
     },
     "execution_count": 30,
     "metadata": {},
     "output_type": "execute_result"
    }
   ],
   "source": [
    "Ridge_model = model_selection.cross_validate(linear_model.Ridge(alpha = 10),x,y,cv = 5)\n",
    "Ridge_model"
   ]
  },
  {
   "cell_type": "code",
   "execution_count": 31,
   "metadata": {},
   "outputs": [
    {
     "data": {
      "text/plain": [
       "({'fit_time': array([0.01220703, 0.00764942, 0.00989556, 0.01016569, 0.00980878]),\n",
       "  'score_time': array([0., 0., 0., 0., 0.]),\n",
       "  'test_score': array([0.72836929, 0.70573376, 0.76329635, 0.73839179, 0.51761279])},\n",
       " 0.6906807937184885)"
      ]
     },
     "execution_count": 31,
     "metadata": {},
     "output_type": "execute_result"
    }
   ],
   "source": [
    "Lasso_model = model_selection.cross_validate(linear_model.Lasso(alpha = 29660.4472),x,y,cv = 5)\n",
    "Lasso_model,Lasso_model['test_score'].mean()"
   ]
  },
  {
   "cell_type": "code",
   "execution_count": 32,
   "metadata": {},
   "outputs": [
    {
     "data": {
      "text/plain": [
       "{'fit_time': array([1.25014615, 1.21998906, 1.22363997, 1.22348022, 1.22059011]),\n",
       " 'score_time': array([0.0099647 , 0.00980568, 0.01037407, 0.01004624, 0.01000834]),\n",
       " 'test_score': array([0.84727291, 0.80918022, 0.87733797, 0.8932884 , 0.82527503])}"
      ]
     },
     "execution_count": 32,
     "metadata": {},
     "output_type": "execute_result"
    }
   ],
   "source": [
    "Forest_model = model_selection.cross_validate(ensemble.RandomForestRegressor(n_estimators = 100,criterion = 'mse',ccp_alpha = 0),x,y,cv = 5)\n",
    "Forest_model"
   ]
  },
  {
   "cell_type": "code",
   "execution_count": 33,
   "metadata": {},
   "outputs": [
    {
     "data": {
      "text/plain": [
       "{'mean_fit_time': array([1.23596406, 3.67483821, 1.28186212, 3.83706079, 1.30985618,\n",
       "        3.93579187]),\n",
       " 'std_fit_time': array([0.00563396, 0.01506543, 0.00264001, 0.01299892, 0.0036936 ,\n",
       "        0.01846595]),\n",
       " 'mean_score_time': array([0.00984306, 0.02847686, 0.01016936, 0.02589812, 0.00833845,\n",
       "        0.02588973]),\n",
       " 'std_score_time': array([0.00086157, 0.00112975, 0.0027081 , 0.00343366, 0.00224644,\n",
       "        0.00308434]),\n",
       " 'param_ccp_alpha': masked_array(data=[0, 0, 10000, 10000, 100000, 100000],\n",
       "              mask=[False, False, False, False, False, False],\n",
       "        fill_value='?',\n",
       "             dtype=object),\n",
       " 'param_n_estimators': masked_array(data=[100, 300, 100, 300, 100, 300],\n",
       "              mask=[False, False, False, False, False, False],\n",
       "        fill_value='?',\n",
       "             dtype=object),\n",
       " 'params': [{'ccp_alpha': 0, 'n_estimators': 100},\n",
       "  {'ccp_alpha': 0, 'n_estimators': 300},\n",
       "  {'ccp_alpha': 10000, 'n_estimators': 100},\n",
       "  {'ccp_alpha': 10000, 'n_estimators': 300},\n",
       "  {'ccp_alpha': 100000, 'n_estimators': 100},\n",
       "  {'ccp_alpha': 100000, 'n_estimators': 300}],\n",
       " 'split0_test_score': array([0.85474799, 0.85729255, 0.8571718 , 0.8567342 , 0.85738355,\n",
       "        0.85414475]),\n",
       " 'split1_test_score': array([0.80069474, 0.81097715, 0.8127653 , 0.81130367, 0.8046395 ,\n",
       "        0.81195355]),\n",
       " 'split2_test_score': array([0.86873835, 0.8708058 , 0.86318783, 0.87040901, 0.86816202,\n",
       "        0.86961603]),\n",
       " 'split3_test_score': array([0.89414033, 0.89967869, 0.89299255, 0.8987215 , 0.89331325,\n",
       "        0.89954889]),\n",
       " 'split4_test_score': array([0.80894567, 0.82664812, 0.82685078, 0.82360464, 0.8108244 ,\n",
       "        0.81551478]),\n",
       " 'mean_test_score': array([0.84545342, 0.85308046, 0.85059365, 0.8521546 , 0.84686454,\n",
       "        0.8501556 ]),\n",
       " 'std_test_score': array([0.03559536, 0.03154261, 0.02826397, 0.03164355, 0.03406922,\n",
       "        0.03314725]),\n",
       " 'rank_test_score': array([6, 1, 3, 2, 5, 4])}"
      ]
     },
     "execution_count": 33,
     "metadata": {},
     "output_type": "execute_result"
    }
   ],
   "source": [
    "params = {\n",
    "    'n_estimators' : [100,300],\n",
    "    'ccp_alpha' : [0,10000,100000]\n",
    "}\n",
    "ensemble.RandomForestRegressor()\n",
    "Forest_model = model_selection.GridSearchCV(ensemble.RandomForestRegressor(),param_grid = params,cv = 5)\n",
    "Forest_model.fit(x,y)\n",
    "Forest_model.cv_results_"
   ]
  },
  {
   "cell_type": "code",
   "execution_count": 34,
   "metadata": {},
   "outputs": [
    {
     "data": {
      "text/plain": [
       "{'mean_fit_time': array([0.69116392, 2.04862523, 0.98365607, 2.9647223 , 1.27996039,\n",
       "        3.93921747, 1.43928089, 4.75069742]),\n",
       " 'std_fit_time': array([0.01047886, 0.00980696, 0.00960839, 0.02415882, 0.01275122,\n",
       "        0.08246837, 0.17607771, 0.02864213]),\n",
       " 'mean_score_time': array([0.00060678, 0.00240812, 0.00163779, 0.00256572, 0.00339265,\n",
       "        0.00321856, 0.00295839, 0.00716434]),\n",
       " 'std_score_time': array([0.00081245, 0.00035039, 0.00082603, 0.00227994, 0.0012276 ,\n",
       "        0.00388935, 0.00244212, 0.00205503]),\n",
       " 'param_max_depth': masked_array(data=[2, 2, 3, 3, 4, 4, 5, 5],\n",
       "              mask=[False, False, False, False, False, False, False, False],\n",
       "        fill_value='?',\n",
       "             dtype=object),\n",
       " 'param_n_estimators': masked_array(data=[100, 300, 100, 300, 100, 300, 100, 300],\n",
       "              mask=[False, False, False, False, False, False, False, False],\n",
       "        fill_value='?',\n",
       "             dtype=object),\n",
       " 'params': [{'max_depth': 2, 'n_estimators': 100},\n",
       "  {'max_depth': 2, 'n_estimators': 300},\n",
       "  {'max_depth': 3, 'n_estimators': 100},\n",
       "  {'max_depth': 3, 'n_estimators': 300},\n",
       "  {'max_depth': 4, 'n_estimators': 100},\n",
       "  {'max_depth': 4, 'n_estimators': 300},\n",
       "  {'max_depth': 5, 'n_estimators': 100},\n",
       "  {'max_depth': 5, 'n_estimators': 300}],\n",
       " 'split0_test_score': array([0.88131584, 0.88352812, 0.88915116, 0.89397251, 0.87961807,\n",
       "        0.87765767, 0.86193624, 0.86227122]),\n",
       " 'split1_test_score': array([0.82896214, 0.82569124, 0.8230807 , 0.82365371, 0.80788098,\n",
       "        0.81645935, 0.80110152, 0.80579259]),\n",
       " 'split2_test_score': array([0.87657279, 0.8872285 , 0.88148243, 0.88185565, 0.89649164,\n",
       "        0.8951538 , 0.87820841, 0.8804739 ]),\n",
       " 'split3_test_score': array([0.89192298, 0.90844302, 0.89914435, 0.90375628, 0.90233322,\n",
       "        0.90407733, 0.91097643, 0.91005388]),\n",
       " 'split4_test_score': array([0.87059353, 0.8853522 , 0.88996862, 0.8817814 , 0.8610508 ,\n",
       "        0.86397609, 0.86535802, 0.85940105]),\n",
       " 'mean_test_score': array([0.86987346, 0.87804862, 0.87656545, 0.87700391, 0.86947494,\n",
       "        0.87146485, 0.86351613, 0.86359853]),\n",
       " 'std_test_score': array([0.02161594, 0.02768665, 0.02732269, 0.02791498, 0.03399186,\n",
       "        0.03080512, 0.03569262, 0.03406988]),\n",
       " 'rank_test_score': array([5, 1, 3, 2, 6, 4, 8, 7])}"
      ]
     },
     "execution_count": 34,
     "metadata": {},
     "output_type": "execute_result"
    }
   ],
   "source": [
    "params = {\n",
    "    'n_estimators' : [100,300],\n",
    "    'max_depth' : [2,3,4,5]\n",
    "}\n",
    "ensemble.GradientBoostingRegressor()\n",
    "GB_model = model_selection.GridSearchCV(ensemble.GradientBoostingRegressor(),param_grid = params,cv = 5)\n",
    "GB_model.fit(x,y)\n",
    "GB_model.cv_results_"
   ]
  },
  {
   "cell_type": "code",
   "execution_count": 35,
   "metadata": {},
   "outputs": [
    {
     "data": {
      "text/plain": [
       "0.9128906522945693"
      ]
     },
     "execution_count": 35,
     "metadata": {},
     "output_type": "execute_result"
    }
   ],
   "source": [
    "estimators = [\n",
    "    ('ridge',linear_model.Ridge(alpha = 10)),\n",
    "    ('gb',ensemble.GradientBoostingRegressor(n_estimators = 300))\n",
    "             ]\n",
    "model = ensemble.StackingRegressor(estimators = estimators,final_estimator = ensemble.GradientBoostingRegressor(n_estimators = 200),cv = 5)\n",
    "model.fit(x,y)\n",
    "model.score(x,y)"
   ]
  },
  {
   "cell_type": "code",
   "execution_count": 36,
   "metadata": {},
   "outputs": [
    {
     "data": {
      "text/plain": [
       "0.9695704134423531"
      ]
     },
     "execution_count": 36,
     "metadata": {},
     "output_type": "execute_result"
    }
   ],
   "source": [
    "estimators = [\n",
    "    ('ridge',linear_model.Ridge(alpha = 10)),\n",
    "    ('gb',ensemble.GradientBoostingRegressor(n_estimators = 300))\n",
    "             ]\n",
    "model = ensemble.StackingRegressor(estimators = estimators,final_estimator = linear_model.LinearRegression(),cv = 5)\n",
    "model.fit(x,y)\n",
    "model.score(x,y)"
   ]
  },
  {
   "cell_type": "code",
   "execution_count": 37,
   "metadata": {},
   "outputs": [
    {
     "data": {
      "text/plain": [
       "0.9019998206537152"
      ]
     },
     "execution_count": 37,
     "metadata": {},
     "output_type": "execute_result"
    }
   ],
   "source": [
    "estimators = [\n",
    "    ('ridge',linear_model.Ridge(alpha = 10)),\n",
    "    ('gb',ensemble.GradientBoostingRegressor(n_estimators = 300))\n",
    "             ]\n",
    "model = ensemble.StackingRegressor(estimators = estimators,final_estimator = ensemble.GradientBoostingRegressor(n_estimators = 300),cv = 5)\n",
    "model.fit(x,y)\n",
    "model.score(x,y)"
   ]
  },
  {
   "cell_type": "code",
   "execution_count": 38,
   "metadata": {},
   "outputs": [
    {
     "data": {
      "text/plain": [
       "0.9162687784079149"
      ]
     },
     "execution_count": 38,
     "metadata": {},
     "output_type": "execute_result"
    }
   ],
   "source": [
    "estimators = [\n",
    "    ('ridge',linear_model.Ridge(alpha = 10)),\n",
    "    ('gb',ensemble.GradientBoostingRegressor(n_estimators = 300))\n",
    "             ]\n",
    "model = ensemble.StackingRegressor(estimators = estimators,final_estimator = ensemble.GradientBoostingRegressor(n_estimators = 100),cv = 5)\n",
    "model.fit(x,y)\n",
    "model.score(x,y)"
   ]
  },
  {
   "cell_type": "code",
   "execution_count": 39,
   "metadata": {},
   "outputs": [
    {
     "data": {
      "text/plain": [
       "0.9058375108685579"
      ]
     },
     "execution_count": 39,
     "metadata": {},
     "output_type": "execute_result"
    }
   ],
   "source": [
    "estimators = [\n",
    "    ('tree',ensemble.RandomForestRegressor(ccp_alpha = 100000,n_estimators = 300)),\n",
    "    ('ridge',linear_model.Ridge(alpha = 10)),\n",
    "    ('gb',ensemble.GradientBoostingRegressor(n_estimators = 300))\n",
    "             ]\n",
    "model = ensemble.StackingRegressor(estimators = estimators,final_estimator = ensemble.GradientBoostingRegressor(n_estimators = 100),cv = 5)\n",
    "model.fit(x,y)\n",
    "model.score(x,y)"
   ]
  },
  {
   "cell_type": "code",
   "execution_count": 40,
   "metadata": {},
   "outputs": [
    {
     "data": {
      "text/plain": [
       "0.9020717470625867"
      ]
     },
     "execution_count": 40,
     "metadata": {},
     "output_type": "execute_result"
    }
   ],
   "source": [
    "estimators = [\n",
    "    ('tree',ensemble.RandomForestRegressor(ccp_alpha = 100000,n_estimators = 300)),\n",
    "    ('ridge',linear_model.Ridge(alpha = 10)),\n",
    "    ('gb',ensemble.GradientBoostingRegressor(n_estimators = 300))\n",
    "             ]\n",
    "model = ensemble.StackingRegressor(estimators = estimators,final_estimator = ensemble.GradientBoostingRegressor(n_estimators = 200),cv = 5)\n",
    "model.fit(x,y)\n",
    "model.score(x,y)"
   ]
  },
  {
   "cell_type": "code",
   "execution_count": 41,
   "metadata": {},
   "outputs": [
    {
     "data": {
      "text/plain": [
       "0.9023764811041729"
      ]
     },
     "execution_count": 41,
     "metadata": {},
     "output_type": "execute_result"
    }
   ],
   "source": [
    "estimators = [\n",
    "    ('tree',ensemble.RandomForestRegressor(ccp_alpha = 100000,n_estimators = 300)),\n",
    "    ('ridge',linear_model.Ridge(alpha = 10)),\n",
    "    ('gb',ensemble.GradientBoostingRegressor(n_estimators = 300))\n",
    "             ]\n",
    "model = ensemble.StackingRegressor(estimators = estimators,final_estimator = ensemble.GradientBoostingRegressor(n_estimators = 300),cv = 5)\n",
    "model.fit(x,y)\n",
    "model.score(x,y)"
   ]
  },
  {
   "cell_type": "code",
   "execution_count": 42,
   "metadata": {},
   "outputs": [
    {
     "data": {
      "text/plain": [
       "0.9059166624237304"
      ]
     },
     "execution_count": 42,
     "metadata": {},
     "output_type": "execute_result"
    }
   ],
   "source": [
    "estimators = [\n",
    "    ('tree',ensemble.RandomForestRegressor(ccp_alpha = 0,n_estimators = 100)),\n",
    "    ('ridge',linear_model.Ridge(alpha = 10)),\n",
    "    ('gb',ensemble.GradientBoostingRegressor(n_estimators = 300))\n",
    "             ]\n",
    "model = ensemble.StackingRegressor(estimators = estimators,final_estimator = ensemble.GradientBoostingRegressor(n_estimators = 300),cv = 5)\n",
    "model.fit(x,y)\n",
    "model.score(x,y)"
   ]
  },
  {
   "cell_type": "code",
   "execution_count": 43,
   "metadata": {},
   "outputs": [
    {
     "data": {
      "text/plain": [
       "0.9129269330389808"
      ]
     },
     "execution_count": 43,
     "metadata": {},
     "output_type": "execute_result"
    }
   ],
   "source": [
    "estimators = [\n",
    "    ('tree',ensemble.RandomForestRegressor(ccp_alpha = 0,n_estimators = 100)),\n",
    "    ('ridge',linear_model.Ridge(alpha = 10)),\n",
    "    ('gb',ensemble.GradientBoostingRegressor(n_estimators = 300))\n",
    "             ]\n",
    "model = ensemble.StackingRegressor(estimators = estimators,final_estimator = ensemble.GradientBoostingRegressor(n_estimators = 100),cv = 5)\n",
    "model.fit(x,y)\n",
    "model.score(x,y)"
   ]
  },
  {
   "cell_type": "code",
   "execution_count": 44,
   "metadata": {},
   "outputs": [
    {
     "data": {
      "text/plain": [
       "0.9690768030312714"
      ]
     },
     "execution_count": 44,
     "metadata": {},
     "output_type": "execute_result"
    }
   ],
   "source": [
    "estimators = [\n",
    "    ('tree',ensemble.RandomForestRegressor(ccp_alpha = 0,n_estimators = 100)),\n",
    "    ('ridge',linear_model.Ridge(alpha = 10)),\n",
    "    ('gb',ensemble.GradientBoostingRegressor(n_estimators = 300))\n",
    "             ]\n",
    "model = ensemble.StackingRegressor(estimators = estimators,final_estimator = linear_model.LinearRegression(),cv = 5)\n",
    "model.fit(x,y)\n",
    "model.score(x,y)"
   ]
  },
  {
   "cell_type": "code",
   "execution_count": 45,
   "metadata": {},
   "outputs": [
    {
     "data": {
      "text/plain": [
       "0.9695990261443814"
      ]
     },
     "execution_count": 45,
     "metadata": {},
     "output_type": "execute_result"
    }
   ],
   "source": [
    "estimators = [\n",
    "    ('tree',ensemble.RandomForestRegressor(ccp_alpha = 100000,n_estimators = 300)),\n",
    "    ('ridge',linear_model.Ridge(alpha = 10)),\n",
    "    ('gb',ensemble.GradientBoostingRegressor(n_estimators = 300))\n",
    "             ]\n",
    "model = ensemble.StackingRegressor(estimators = estimators,final_estimator = linear_model.LinearRegression(),cv = 5)\n",
    "model.fit(x,y)\n",
    "model.score(x,y)"
   ]
  },
  {
   "cell_type": "code",
   "execution_count": null,
   "metadata": {},
   "outputs": [],
   "source": []
  }
 ],
 "metadata": {
  "kernelspec": {
   "display_name": "Python 3",
   "language": "python",
   "name": "python3"
  },
  "language_info": {
   "codemirror_mode": {
    "name": "ipython",
    "version": 3
   },
   "file_extension": ".py",
   "mimetype": "text/x-python",
   "name": "python",
   "nbconvert_exporter": "python",
   "pygments_lexer": "ipython3",
   "version": "3.8.5"
  }
 },
 "nbformat": 4,
 "nbformat_minor": 2
}
